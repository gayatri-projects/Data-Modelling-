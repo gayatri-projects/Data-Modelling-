{
 "cells": [
  {
   "cell_type": "markdown",
   "metadata": {},
   "source": [
    "<h1> FIT5197 Assignment 2 Semester 1, 2020 </h1>\n",
    "    \n",
    "<h2> <span style=\"color:green\"> Do </span> & <span style=\"color:red\">Don't</span> </h2>\n",
    "\n",
    "1. <span style=\"color:green\">Some of these policies are similar to your assignment 1; however, please read carefully as there are some differences between this assignment and the first assignment.</span>\n",
    "\n",
    "3. <span style=\"color:green\">These questions are meant for you to solve independently, we encourage students to figure out the questions themselves as it would be good for their understandings of the topics; however, please feel free to consult your tutors if needed. Plagiarism (either from using online sources or copying the answers from your classmates) will be penalised accordingly.</span>\n",
    "\n",
    "5. <span style=\"color:green\">Requests for special consideration or extension must be submitted at least 2 days BEFORE THE DEADLINE. The due date is on Sunday, so the latest day you can ask for extension is on Friday (the last official working day of the week for the teaching team). Please follow Monash guidelines to request for extensions (medical certificates, doctor or GP letter, etc). Emergencies are to be adjusted individually.</span>\n",
    "\n",
    "8. <span style=\"color:green\">Please show all working when answering questions, you will not get full marks for a question if you don't comply.</span>\n",
    "\n",
    "11. <span style=\"color:green\">Assignments need to be submitted in PDF and ipynb file format. Failure to comply will result in 20% penalty on each missing file. </span>\n",
    "\n",
    "12. <span style=\"color:green\">Filename format for submitting the assignment should be “Assignment2_StudentId.pdf” and \"Assignment2_StudentId.ipynb\". Files with the wrong format incurs 20% penalty each.</span>\n",
    "\n",
    "13. <span style=\"color:green\">This assignment has 10 marks for presentation, this includes presenting your explanation in **Markdown**, writing and commenting on code efficiently, creating good plots with clear labels on the axis, etc.</span>\n",
    "\n",
    "14. <span style=\"color:green\">Only answers with correct methodology will be considered for consequential marks. Meaning if you attempt the question and your answer is incorrect, but your methodology is correct, you will still receive partial marks for subsequent questions. However, answers with incorrect methodology (misunderstanding the questions) will generate no marks for subsequent questions.</span>\n",
    "\n",
    "15. <span style=\"color:green\">Challenge questions are for students aiming to get a HD for the assignment. We don't advise for students to spend time on these questions before finishing all the other parts in the assignment. This assignment is designed in a way that students can get up to 80 (HD) without attempting the challenge questions.</span>\n",
    "\n",
    "10. <span style=\"color:red\">Please don’t send emails to tutors asking for suggestions, we have Moodle and consultations for that. When writing your inquiries on Moodle please try to be clear in your problem and not revealing your working to others as this might be counted as plagiarism on your part. A good format for inquiry topic would be e.g. “Assignment 2 – Tutorial 10 (your tutorial slot) – Question about median\"</span>\n",
    "\n",
    "2. <span style=\"color:red\">Handwritten answers incur a penalty of 10% on your assignment, you have Markdown, please learn how to use it as it will be an useful skill for you going through the degree as well as in real life situation.</span>\n",
    "\n",
    "3. This assignment will contribute towards 20% of your total score.\n",
    "\n",
    "7. Late submission is 5% per day, after 10 days you will be given no marks. Late submission is calculated as follows: If you get 70% on this assignment and you are late for 2 days (you submit on Tuesday), your score is now 70% -10% (2x5% per day) = 60%. This is done to ensure that the teaching team can release your result as soon as possible so that you can review on your mistakes and have a better study experience.\n",
    "\n",
    "9. Assignments shall be marked completely in two weeks’ time according to Monash Policies. If there are any changes to the marking time, we will duly inform you. Solutions will not be released for this assignment; you can come to the tutorial and ask for explanation about how to solve the questions after scores are released."
   ]
  },
  {
   "cell_type": "markdown",
   "metadata": {},
   "source": [
    "<h2>Question 1 - Probabilities (10 Marks)</h2>\n",
    "\n",
    "A box contains $n$ pairs of shoes ($2n$ shoes in total). If $2r$ (with the assumption that $2r \\leq n$) shoes are selected at random, find the probability for the following scenarios:"
   ]
  },
  {
   "cell_type": "markdown",
   "metadata": {},
   "source": [
    "<h3> Question 1a. (2 Marks)</h3>\n",
    "\n",
    "$A_0$ = ‘No matching pair’ "
   ]
  },
  {
   "cell_type": "markdown",
   "metadata": {},
   "source": [
    "**ANSWER:**\n",
    "\n",
    "**Number of ways of selecting 2r shoes from 2n shoes:**\n",
    "\n",
    "$$\\text{Total probability} = \\binom{2n}{2r}$$ \n",
    "\n",
    "**Number of ways of selecting r pairs i.e 2r shoes from n pairs:** = $$\\binom{n}{2r}$$\n",
    "\n",
    "**Number of ways of selecting separate shoes from these r pairs i.e 2r shoes** = $$2^{2r}$$\n",
    "\n",
    "$$\\text{P(No matching pair)}= \\frac{\\binom{n}{2r}2^{2r}}{\\binom{2n}{2r}}$$"
   ]
  },
  {
   "cell_type": "markdown",
   "metadata": {},
   "source": [
    "<h3> Question 1b. (3 Marks)  </h3>\n",
    "\n",
    "$A_1$ = ‘only one matching pair’"
   ]
  },
  {
   "cell_type": "markdown",
   "metadata": {},
   "source": [
    "**ANSWER:**\n",
    "\n",
    "**Number of ways of selecting 2r shoes from 2n shoes:**\n",
    "\n",
    "$$\\text{Total probability} = \\binom{2n}{2r}$$ \n",
    "\n",
    "**Number of ways of selecting 1 pair from n pairs:** = $$\\binom{n}{1}$$ \n",
    "\n",
    "**Now,**\\\n",
    "We need to select **(r - 1)** pairs from **(n - 1)** pairs.\n",
    "Thus, \\\n",
    "**Number of ways of selecting (r - 1) pairs from **(n - 1)** pairs =  $$\\binom{n - 1}{2r - 2}$$\n",
    "**Now,**\\\n",
    "**Number of ways of selecting separate shoes from these (r -1) pairs i.e (2r - 2) shoes** = $$2^{2r - 2}$$\n",
    "\n",
    "$$\\text{P(Only one matching pair)}= \\frac{n\\binom{n - 1}{2r - 2}2^{2r - 2}}{\\binom{2n}{2r}}$$"
   ]
  },
  {
   "cell_type": "markdown",
   "metadata": {},
   "source": [
    "<h3> Question 1c. (2 Marks)</h3>\n",
    "\n",
    "$A_2$ = ‘exactly two matching pairs’"
   ]
  },
  {
   "cell_type": "markdown",
   "metadata": {},
   "source": [
    "**ANSWER:**\n",
    "\n",
    "**Number of ways of selecting 2r shoes from 2n shoes:**\n",
    "\n",
    "$$\\text{Total probability} = \\binom{2n}{2r}$$ \n",
    "\n",
    "**Number of ways of selecting 2 pairs from n pairs:** = $$\\binom{n}{2}$$\n",
    "\n",
    "**Now,**\\\n",
    "We need to select **(r - 2)** pairs from **(n - 2)** pairs.\n",
    "Thus, \\\n",
    "**Number of ways of selecting (2r - 4) pairs from (n - 2)** pairs =  $$\\binom{n - 2}{2r - 4}$$\n",
    "**Now,**\\\n",
    "**Number of ways of selecting separate shoes from these (r -2) pairs i.e 2r - 4** = $$2^{2r - 4}$$\n",
    "\n",
    "$$\\text{P(Exactly two pairs)}= \\frac{\\binom{n}{2}\\binom{n - 2}{2r - 4}2^{2r - 4}}{\\binom{2n}{2r}}$$"
   ]
  },
  {
   "cell_type": "markdown",
   "metadata": {},
   "source": [
    "<h3> Question 1d. (3 Marks)</h3>\n",
    "\n",
    "$A_r$ = ‘exactly r matching pairs’"
   ]
  },
  {
   "cell_type": "markdown",
   "metadata": {},
   "source": [
    "**ANSWER:**\n",
    "\n",
    "**Number of ways of selecting 2r shoes from 2n shoes:**\n",
    "\n",
    "$$\\text{Total probability} = \\binom{2n}{2r}$$ \n",
    "\n",
    "**Number of ways of selecting 0 pairs from the remaining (n - r) pairs:** = $$\\binom{n - r}{0}$$\n",
    "\n",
    "**Number of ways of selecting r pairs from n pairs:** = $$\\binom{n}{r}$$\n",
    "\n",
    "$$\\text{P(Exactly r pairs)}= \\frac{\\binom{n}{r}(n - r)}{\\binom{2n}{2r}}$$"
   ]
  },
  {
   "cell_type": "markdown",
   "metadata": {},
   "source": [
    "<h2>Question 2 - Conditional Probabilities & Entropy (30 Marks)</h2>\n",
    "\n",
    "<span style=\"color:red\"> **Warning, no built in functions to calculate probability or entropy from R should be used for this part. The only help you can get from R should be dataframe manipulation. Answers using functions will not be marked even if the answer is correct.**</span>\n",
    "\n",
    "Sports analytics (i.e., the application of data science techniques to competitive sports) is a rapidly growing area of data science. In this question we will look at some very basic analytics applied to the outcomes of consecutive games of English Premier League (EPL). The file chelsea.csv contains a record of the outcomes of games of EPL played by **Chelsea football club (CFC)** in the seasons from 1993 to 2018. The data is sequential, in the sense that each row recorded the result whether the home team wins (H), the away team wins (A), or there is a draw (D).\n",
    "\n",
    "**Please show all working including code and presentation for this question**\n",
    "\n",
    "<h2>Part 1: Analyzing Home/Away performance (17 Marks)</h2>"
   ]
  },
  {
   "cell_type": "markdown",
   "metadata": {},
   "source": [
    "<h3> Question 2.a (3 Marks)</h3>\n",
    "\n",
    "Find out the probabilities **P(Chelsea Wins), P(Chelsea Loses), and P(Chelsea Draws)**. This includes all the results both home and away."
   ]
  },
  {
   "cell_type": "code",
   "execution_count": 598,
   "metadata": {},
   "outputs": [
    {
     "data": {
      "text/html": [
       "0.5459"
      ],
      "text/latex": [
       "0.5459"
      ],
      "text/markdown": [
       "0.5459"
      ],
      "text/plain": [
       "[1] 0.5459"
      ]
     },
     "metadata": {},
     "output_type": "display_data"
    },
    {
     "data": {
      "text/html": [
       "0.2098"
      ],
      "text/latex": [
       "0.2098"
      ],
      "text/markdown": [
       "0.2098"
      ],
      "text/plain": [
       "[1] 0.2098"
      ]
     },
     "metadata": {},
     "output_type": "display_data"
    },
    {
     "data": {
      "text/html": [
       "0.2443"
      ],
      "text/latex": [
       "0.2443"
      ],
      "text/markdown": [
       "0.2443"
      ],
      "text/plain": [
       "[1] 0.2443"
      ]
     },
     "metadata": {},
     "output_type": "display_data"
    }
   ],
   "source": [
    "# Reading the dataset into data\n",
    "data <- read.csv(\"chelsea.csv\")\n",
    "\n",
    "# Calculating the total number of games\n",
    "total_number_of_games <- nrow(data)\n",
    "\n",
    "# Number of games won \n",
    "chelsea_wins <- subset( data, (home == \"Chelsea\" & result == \"H\") | \n",
    "                              (away == \"Chelsea\" & result == 'A') )\n",
    "chelsea_wins_games <- nrow(chelsea_wins)\n",
    "chelsea_wins_probability <- chelsea_wins_games/total_number_of_games\n",
    "round( chelsea_wins_probability, digits = 4)\n",
    "\n",
    "# Number of games lost \n",
    "chelsea_lost <- subset( data, (home == \"Chelsea\" & result == \"A\") | \n",
    "                              (away == \"Chelsea\" & result == 'H') )\n",
    "chelsea_lost_games <- nrow(chelsea_lost)\n",
    "chelsea_lost_probability <- chelsea_lost_games/total_number_of_games\n",
    "round( chelsea_lost_probability, digits = 4)\n",
    "\n",
    "# Number of games in draw\n",
    "chelsea_draw <- subset( data, (home == \"Chelsea\" & result == \"D\") | \n",
    "                              (away == \"Chelsea\" & result == 'D') )\n",
    "chelsea_draw_games <- nrow(chelsea_draw)\n",
    "chelsea_draw_probability <- chelsea_draw_games/total_number_of_games\n",
    "round( chelsea_draw_probability, digits = 4)"
   ]
  },
  {
   "cell_type": "markdown",
   "metadata": {},
   "source": [
    "\n",
    " 1. **P(Chelsea Wins)** = chelsea_wins_games/total_number_of_games = 0.5459\n",
    " 2. **P(Chelsea Loses)** = chelsea_lost_games/total_number_of_games = 0.2098\n",
    " 3. **P(Chelsea Draws)** = chelsea_draw_games/total_number_of_games = 0.2443"
   ]
  },
  {
   "cell_type": "markdown",
   "metadata": {},
   "source": [
    "<h3> Question 2.b (6 Marks)</h3>\n",
    "\n",
    "Find out the conditional probabilities: \n",
    "\n",
    "1. **P(Chelsea Wins| Playing at Home)**\n",
    "2. **P(Chelsea Wins| Playing away)**\n",
    "2. **P(Chelsea Draws| Playing at Home)**\n",
    "4. **P(Chelsea Draws| Playing away)**\n",
    "5. **P(Chelsea Loses| Playing at Home)**\n",
    "6. **P(Chelsea Loses| Playing away)**\n",
    "\n",
    "Please make comparison and a general conclusion."
   ]
  },
  {
   "cell_type": "code",
   "execution_count": 599,
   "metadata": {},
   "outputs": [
    {
     "data": {
      "text/html": [
       "0.6347"
      ],
      "text/latex": [
       "0.6347"
      ],
      "text/markdown": [
       "0.6347"
      ],
      "text/plain": [
       "[1] 0.6347"
      ]
     },
     "metadata": {},
     "output_type": "display_data"
    },
    {
     "data": {
      "text/html": [
       "0.4572"
      ],
      "text/latex": [
       "0.4572"
      ],
      "text/markdown": [
       "0.4572"
      ],
      "text/plain": [
       "[1] 0.4572"
      ]
     },
     "metadata": {},
     "output_type": "display_data"
    },
    {
     "data": {
      "text/html": [
       "0.238"
      ],
      "text/latex": [
       "0.238"
      ],
      "text/markdown": [
       "0.238"
      ],
      "text/plain": [
       "[1] 0.238"
      ]
     },
     "metadata": {},
     "output_type": "display_data"
    },
    {
     "data": {
      "text/html": [
       "0.2505"
      ],
      "text/latex": [
       "0.2505"
      ],
      "text/markdown": [
       "0.2505"
      ],
      "text/plain": [
       "[1] 0.2505"
      ]
     },
     "metadata": {},
     "output_type": "display_data"
    },
    {
     "data": {
      "text/html": [
       "0.1273"
      ],
      "text/latex": [
       "0.1273"
      ],
      "text/markdown": [
       "0.1273"
      ],
      "text/plain": [
       "[1] 0.1273"
      ]
     },
     "metadata": {},
     "output_type": "display_data"
    },
    {
     "data": {
      "text/html": [
       "0.2923"
      ],
      "text/latex": [
       "0.2923"
      ],
      "text/markdown": [
       "0.2923"
      ],
      "text/plain": [
       "[1] 0.2923"
      ]
     },
     "metadata": {},
     "output_type": "display_data"
    }
   ],
   "source": [
    "# Reading the dataset into data\n",
    "data <- read.csv(\"chelsea.csv\")\n",
    "\n",
    "# Calculating the total number of games\n",
    "total_number_of_games <- nrow(data)\n",
    "\n",
    "# Games at home\n",
    "home <- subset( data, (home == \"Chelsea\"))\n",
    "total_games_home <- nrow(home)\n",
    "\n",
    "# Games away\n",
    "away <- subset( data, (away == \"Chelsea\"))\n",
    "total_games_away <- nrow(away)\n",
    "\n",
    "# P(Chelsea Wins| Playing at Home)\n",
    "wins_playing_at_home <- subset( data, (home == \"Chelsea\" & result == \"H\") )\n",
    "wins_playing_at_home <- nrow(wins_playing_at_home)\n",
    "wins_playing_at_home_probability <- wins_playing_at_home/total_games_home\n",
    "round( wins_playing_at_home_probability, digits = 4) \n",
    "\n",
    "# P(Chelsea Wins| Playing Away)\n",
    "wins_playing_away <- subset( data, (away == \"Chelsea\" & result == \"A\") )\n",
    "wins_playing_away <- nrow(wins_playing_away)\n",
    "wins_playing_away_probability <- wins_playing_away/total_games_away\n",
    "round( wins_playing_away_probability, digits = 4)\n",
    "\n",
    "# P(Chelsea Draws| Playing at Home)\n",
    "draws_playing_at_home <- subset( data, (home == \"Chelsea\" & result == \"D\") )\n",
    "draws_playing_at_home <- nrow(draws_playing_at_home)\n",
    "draws_playing_at_home_probability <- draws_playing_at_home/total_games_home\n",
    "round( draws_playing_at_home_probability, digits = 4)\n",
    "\n",
    "# P(Chelsea Draws| Playing away)\n",
    "draws_playing_away <- subset( data, (away == \"Chelsea\" & result == \"D\") )\n",
    "draws_playing_away <- nrow(draws_playing_away)\n",
    "draws_playing_away_probability <- draws_playing_away/total_games_away\n",
    "round( draws_playing_away_probability, digits = 4)\n",
    "\n",
    "# P(Chelsea Loses| Playing at Home)\n",
    "loses_playing_at_home <- subset( data, (home == \"Chelsea\" & result == \"A\") )\n",
    "loses_playing_at_home <- nrow(loses_playing_at_home)\n",
    "loses_playing_at_home_probability <- loses_playing_at_home/total_games_home\n",
    "round( loses_playing_at_home_probability, digits = 4) \n",
    "\n",
    "# P(Chelsea Loses| Playing away)\n",
    "loses_playing_away <- subset( data, (away == \"Chelsea\" & result == \"H\") )\n",
    "loses_playing_away <- nrow(loses_playing_away)\n",
    "loses_playing_away_probability <- loses_playing_away/total_games_away\n",
    "round( loses_playing_away_probability, digits = 4)"
   ]
  },
  {
   "cell_type": "markdown",
   "metadata": {},
   "source": [
    "1. **P(Chelsea Wins| Playing at Home)**  = 0.6347\n",
    "2. **P(Chelsea Wins| Playing away)**     = 0.4572\n",
    "2. **P(Chelsea Draws| Playing at Home)** = 0.238\n",
    "4. **P(Chelsea Draws| Playing away)**    = 0.2505\n",
    "5. **P(Chelsea Loses| Playing at Home)** = 0.1273\n",
    "6. **P(Chelsea Loses| Playing away)**    = 0.2923\n",
    "\n",
    "**Comparison :** We can observe the following from the data :\n",
    "    * Chelsea wins more number of matches while playing at home than playing away.\n",
    "    * There is only a slightly higher probability of the match ending in a draw, when Chelsea is playing away, then at home.\n",
    "    * Similarly, the probability of Chelsea losing is higher when playing away, than playing at home.\n",
    "\n",
    "**General Conclusion :**\n",
    "    * Thus, we can conclude that for Chelsea phas it's best performance when the team is playing at home as it has it's familiar with the ground and turf and has it's crowd for support.\n"
   ]
  },
  {
   "cell_type": "markdown",
   "metadata": {},
   "source": [
    "<h3> Question 2.c (3 Marks)</h3>\n",
    "\n",
    "Find $H($Chelsea Results$)$ this includes results in both home and away games"
   ]
  },
  {
   "cell_type": "code",
   "execution_count": 600,
   "metadata": {},
   "outputs": [
    {
     "data": {
      "text/html": [
       "1.4461"
      ],
      "text/latex": [
       "1.4461"
      ],
      "text/markdown": [
       "1.4461"
      ],
      "text/plain": [
       "[1] 1.4461"
      ]
     },
     "metadata": {},
     "output_type": "display_data"
    }
   ],
   "source": [
    "#log(value, base)\n",
    "# We have the probability values from the above calculations\n",
    "pw = chelsea_wins_probability \n",
    "pl = chelsea_lost_probability\n",
    "pd = chelsea_draw_probability\n",
    "\n",
    "p1 = pw*(log2(1/pw))\n",
    "p2 = pl*(log2(1/pl))\n",
    "p3 = pd*(log2(1/pd))\n",
    "\n",
    "Chelsea_Results_Entropy = round( p1 + p2 + p3, digits = 4)\n",
    "Chelsea_Results_Entropy"
   ]
  },
  {
   "cell_type": "markdown",
   "metadata": {},
   "source": [
    "**$H($Chelsea Results$)$** = 1.4461"
   ]
  },
  {
   "cell_type": "markdown",
   "metadata": {},
   "source": [
    "<h3> Question 2.d (5 Marks)</h3>\n",
    "\n",
    "Is knowing whether Chelsea plays at home or away a good indicator in knowing the result of CFC games? Show your justification (answering just yes or no will not be given any marks) by calculating all the information necessary using the knowledge you have learnt so far in the unit. \n",
    "\n",
    "**Note that this is a challenge question, only attempt if you are comfortable with your progress. You should not use consultations to ask for this question as the tutors will proritize answering queries about other questions.**"
   ]
  },
  {
   "cell_type": "code",
   "execution_count": 601,
   "metadata": {},
   "outputs": [
    {
     "name": "stdout",
     "output_type": "stream",
     "text": [
      "\n",
      " Probability of Chelsea playing at home: 0.5\n",
      " Probability of Chelsea playing at home: 0.5"
     ]
    }
   ],
   "source": [
    "#Calculations which will used in the answer:\n",
    "\n",
    "chelsea_home <- subset( data, (home == \"Chelsea\") )\n",
    "chelsea_home_probability <- ( nrow( chelsea_home ))/total_number_of_games\n",
    "cat(\"\\n Probability of Chelsea playing at home:\",chelsea_home_probability )\n",
    "\n",
    "chelsea_away <- subset( data, (away == \"Chelsea\") )\n",
    "chelsea_away_probability <- ( nrow( chelsea_away ))/total_number_of_games\n",
    "cat(\"\\n Probability of Chelsea playing at home:\",chelsea_away_probability )"
   ]
  },
  {
   "cell_type": "markdown",
   "metadata": {},
   "source": [
    "**ANSWER:**\n",
    "\n",
    "Yes, knowing whether Chelsea plays at home or away a good indicator in knowing the result of CFC games. \n",
    "\n",
    "**Step 1:**\n",
    "* Clearly, we know from **2a** that the Chelsea has **higher chances of winning**, than losing or the match resulting in a draw. \n",
    "* Similarly, from 2b, we know that when Chelsea, plays at home, the probability of winning is higher than the game resulting in a draw or a loss.\n",
    "\n",
    "**Step 2:**\\\n",
    "Now, we calculate the following:\n",
    "\n",
    "* Probability of playing at home: P(H)\n",
    "\\begin{eqnarray*}\n",
    "   P(Home)   &=&  0.5 \\\\                         \n",
    "\\end{eqnarray*}\n",
    "\n",
    "**Step 3:**\\\n",
    "Now, we can calculate the following:\n",
    "* The probability that Chelsea played at home, given it won the game.\n",
    "\\begin{eqnarray*}\n",
    "   P(Home/Wins)   &=&  \\frac{P(Home) \\cdot (Wins/Home)}{P(Wins)} \\\\\n",
    "          &=& 0.5812                \n",
    "\\end{eqnarray*}\n",
    "\n",
    "* The probability that Chelsea played at home, given it lost the game.\n",
    "\\begin{eqnarray*}\n",
    "   P(Home/Loses)   &=&  \\frac{P(Home) \\cdot (Loses/Home)}{P(Lost)} \\\\\n",
    "          &=& 0.3033                \n",
    "\\end{eqnarray*}\n",
    "\n",
    "* The probability that Chelsea played at home, given the match resulted in a draw.\n",
    "\\begin{eqnarray*}\n",
    "   P(Home/Draws)   &=&  \\frac{P(Home) \\cdot (Draws/Home)}{P(Lost)} \\\\\n",
    "          &=& 0.5129                \n",
    "\\end{eqnarray*}\n",
    "\n",
    "**Conclusions:**\n",
    "* Thus, from we can conclude that:\n",
    "    * Given, Chelsea has won a game, the probability that Chelsea played the match at **home** is quite high."
   ]
  },
  {
   "cell_type": "markdown",
   "metadata": {},
   "source": [
    "<h2>Part 2: Analyzing effects of previous results on future results (13 Marks)</h2>\n",
    "\n",
    "<span style=\"color:red\">**This is a new part of the question, this part will focus on a different aspects compared to part I. Objectively speaking, this part is harder compared to the previous one; thus, it has lower mark allocation, students are advised to spend time on this part if they want to achieve desirable outcome.** </span>\n",
    "\n",
    "Based on the data given to you, please create another column named \"binary\". This column will record a win $($corresponding to $1)$ or a loss/draw $($corresponding to $0)$ in the order in which the games were played by CFC.\n",
    "\n",
    "A simple question regarding this type of data might be regarding the existence of (de)motivativing effects on a team if they have won / not won their previous game. Let $W_t$ denote the binary outcome of a game in round $t$ and $W_{t−1}$ denote the outcome of the game played in the previous round. Answer the following questions; **you must provide working/justification.**\n"
   ]
  },
  {
   "cell_type": "code",
   "execution_count": 602,
   "metadata": {},
   "outputs": [],
   "source": [
    "# Adding a new column named binary to the dataframe\n",
    "\n",
    "data <- read.csv(\"chelsea.csv\")\n",
    "\n",
    "data$binary <- ifelse( ( data$home == \"Chelsea\" & data$result == 'H') | \n",
    "                       ( data$away == \"Chelsea\" & data$result == 'A'), 1,0 )     "
   ]
  },
  {
   "cell_type": "markdown",
   "metadata": {},
   "source": [
    "<h3> Question 2.e (4 Marks)</h3>\n",
    "\n",
    "Using the data in **chelsea.csv** and the new column you just created for this task, write R code to **find the frequency** with which CFC won / did not win a game after it won / did not win its previous game. Using these frequencies, calculate the joint distributions $P(W_t = 0, W_{t-1} =0)$, $P(W_t = 1, W_{t-1} = 0)$, $P(W_t = 1, W_{t-1} = 1)$, and $P(W_t = 0, W_{t-1} = 1)$. We suggest students create another column from the original dataframe to solve this question. Please read this question carefully before attempting."
   ]
  },
  {
   "cell_type": "code",
   "execution_count": 603,
   "metadata": {},
   "outputs": [],
   "source": [
    "# Creating counters\n",
    "count_LL <- 0\n",
    "count_LW <- 0\n",
    "count_WW <- 0\n",
    "count_WL <- 0\n",
    "\n",
    "for (i in 2:total_number_of_games) \n",
    "{\n",
    "    if ( data$binary[i] == 0 & data$binary[i-1] == 0) \n",
    "    {\n",
    "     data$current_previous[i] <- \"LL\"\n",
    "     count_LL <- count_LL + 1\n",
    "    } \n",
    "    else if ( data$binary[i] == 0 & data$binary[i-1] == 1 ) \n",
    "    {\n",
    "      data$current_previous[i] <- \"LW\"\n",
    "      count_LW <- count_LW + 1\n",
    "    } \n",
    "    else if ( data$binary[i] == 1 & data$binary[i-1] == 1 ) \n",
    "    {\n",
    "      data$current_previous[i] <- \"WW\"\n",
    "      count_WW <- count_WW + 1\n",
    "    } \n",
    "    else if (data$binary[i] == 1 & data$binary[i-1] == 0 ) \n",
    "    {\n",
    "      data$current_previous[i] <- \"WL\"\n",
    "      count_WL <- count_WL + 1\n",
    "    } \n",
    "}"
   ]
  },
  {
   "cell_type": "code",
   "execution_count": 604,
   "metadata": {},
   "outputs": [
    {
     "name": "stdout",
     "output_type": "stream",
     "text": [
      "\n",
      " (Wt = 0, Wt-1 = 0) : 198\n",
      " (Wt = 0, Wt-1 = 1) : 236\n",
      " (Wt = 1, Wt-1 = 1) : 287\n",
      " (Wt = 1, Wt-1 = 0) : 236"
     ]
    }
   ],
   "source": [
    "# Frequencies\n",
    "cat(\"\\n (Wt = 0, Wt-1 = 0) :\",count_LL)\n",
    "cat(\"\\n (Wt = 0, Wt-1 = 1) :\",count_LW) \n",
    "cat(\"\\n (Wt = 1, Wt-1 = 1) :\",count_WW)\n",
    "cat(\"\\n (Wt = 1, Wt-1 = 0) :\",count_WL)"
   ]
  },
  {
   "cell_type": "markdown",
   "metadata": {},
   "source": [
    "The different **frequencies** of the Joint Distributions are as follows:\n",
    "\n",
    "$P(W_t = 0, W_{t-1} =0)$ = 198 \\\n",
    "$P(W_t = 1, W_{t-1} = 0)$ = 236 \\\n",
    "$P(W_t = 1, W_{t-1} = 1)$ = 287 \\\n",
    "$P(W_t = 0, W_{t-1} = 1)$ = 236"
   ]
  },
  {
   "cell_type": "code",
   "execution_count": 605,
   "metadata": {},
   "outputs": [
    {
     "data": {
      "text/html": [
       "0.2067"
      ],
      "text/latex": [
       "0.2067"
      ],
      "text/markdown": [
       "0.2067"
      ],
      "text/plain": [
       "[1] 0.2067"
      ]
     },
     "metadata": {},
     "output_type": "display_data"
    },
    {
     "data": {
      "text/html": [
       "0.2463"
      ],
      "text/latex": [
       "0.2463"
      ],
      "text/markdown": [
       "0.2463"
      ],
      "text/plain": [
       "[1] 0.2463"
      ]
     },
     "metadata": {},
     "output_type": "display_data"
    },
    {
     "data": {
      "text/html": [
       "0.2996"
      ],
      "text/latex": [
       "0.2996"
      ],
      "text/markdown": [
       "0.2996"
      ],
      "text/plain": [
       "[1] 0.2996"
      ]
     },
     "metadata": {},
     "output_type": "display_data"
    },
    {
     "data": {
      "text/html": [
       "0.2463"
      ],
      "text/latex": [
       "0.2463"
      ],
      "text/markdown": [
       "0.2463"
      ],
      "text/plain": [
       "[1] 0.2463"
      ]
     },
     "metadata": {},
     "output_type": "display_data"
    }
   ],
   "source": [
    "# Calculating the probabilities\n",
    "LL <- subset( data, (current_previous == \"LL\") )\n",
    "WL <- subset( data, (current_previous == \"WL\") )\n",
    "WW <- subset( data, (current_previous == \"WW\") )\n",
    "LW <- subset( data, (current_previous == \"LW\") )\n",
    "\n",
    "w00 <-  round ( ( nrow( LL ) ) / total_number_of_games, digits = 4 )\n",
    "w10 <-  round ( ( nrow( WL ) ) / total_number_of_games, digits = 4 )\n",
    "w11 <-  round ( ( nrow( WW ) ) / total_number_of_games, digits = 4 )\n",
    "w01 <-  round ( ( nrow( LW ) ) / total_number_of_games, digits = 4 )\n",
    "\n",
    "# Displaying the answers\n",
    "w00\n",
    "w10\n",
    "w11\n",
    "w01"
   ]
  },
  {
   "cell_type": "markdown",
   "metadata": {},
   "source": [
    "The different **probabilities** of the Joint Distributions are as follows:\n",
    "\n",
    "$P(W_t = 0, W_{t-1} =0)$ = 0.2067 \\\n",
    "$P(W_t = 1, W_{t-1} = 0)$ = 0.2463 \\\n",
    "$P(W_t = 1, W_{t-1} = 1)$ = 0.2996 \\\n",
    "$P(W_t = 0, W_{t-1} = 1)$ = 0.2463"
   ]
  },
  {
   "cell_type": "markdown",
   "metadata": {},
   "source": [
    "<h3> Question 2.f (2 Marks)</h3>\n",
    "\n",
    "What is the probability that CFC will win a game given that they won their previous game?"
   ]
  },
  {
   "cell_type": "code",
   "execution_count": 606,
   "metadata": {},
   "outputs": [
    {
     "data": {
      "text/html": [
       "0.5488"
      ],
      "text/latex": [
       "0.5488"
      ],
      "text/markdown": [
       "0.5488"
      ],
      "text/plain": [
       "[1] 0.5488"
      ]
     },
     "metadata": {},
     "output_type": "display_data"
    }
   ],
   "source": [
    "n_wins <- nrow( subset( data, (current_previous == \"WL\" | current_previous == \"WW\")) ) \n",
    "\n",
    "n_WW <- nrow( subset( data, (current_previous == \"WW\")) ) \n",
    "\n",
    "n_win_won <- round( n_WW/n_wins, digits = 4 )\n",
    "\n",
    "n_win_won"
   ]
  },
  {
   "cell_type": "markdown",
   "metadata": {},
   "source": [
    "Thus, the probability that CFC will win a game given that they won their previous game is:\n",
    "\n",
    "\\begin{eqnarray*}\n",
    "     Required Probability &=&  \\frac{P(W/W)}{P(W/W) + P(W/L)} \\\\\n",
    "          &=& 0.5488                \n",
    "\\end{eqnarray*}"
   ]
  },
  {
   "cell_type": "markdown",
   "metadata": {},
   "source": [
    "<h3> Question 2.g (2 Marks)</h3>\n",
    "\n",
    "What is the probability that CFC will win a game given that they didn't win their previous game?"
   ]
  },
  {
   "cell_type": "code",
   "execution_count": 607,
   "metadata": {},
   "outputs": [
    {
     "data": {
      "text/html": [
       "0.5438"
      ],
      "text/latex": [
       "0.5438"
      ],
      "text/markdown": [
       "0.5438"
      ],
      "text/plain": [
       "[1] 0.5438"
      ]
     },
     "metadata": {},
     "output_type": "display_data"
    }
   ],
   "source": [
    "n_losses <- nrow( subset( data, (current_previous == \"LL\" | current_previous == \"LW\")) ) \n",
    "\n",
    "n_WL <- nrow( subset( data, (current_previous == \"WL\")) ) \n",
    "\n",
    "n_win_loss <- round( n_WL/n_losses, digits = 4 )\n",
    "\n",
    "n_win_loss"
   ]
  },
  {
   "cell_type": "markdown",
   "metadata": {},
   "source": [
    "Thus, probability that CFC will win a game given that they didn't win their previous game:\n",
    "\n",
    "\\begin{eqnarray*}\n",
    "     Required Probability &=&  \\frac{P(W/L)}{P(L/W) + P(L/L)} \\\\\n",
    "          &=& 0.5438                \n",
    "\\end{eqnarray*}"
   ]
  },
  {
   "cell_type": "markdown",
   "metadata": {},
   "source": [
    "<h3> Question 2.h (2 Marks)</h3>\n",
    "\n",
    "Do you think winning/not winning the previous game had an effect on the CFC players in their next game? Justify your answer? **(Note that this is different compared to 2.d)**"
   ]
  },
  {
   "cell_type": "markdown",
   "metadata": {},
   "source": [
    "Yes, **winning/not winning** the previous game had an effect on the CFC players in their next game.\n",
    "\n",
    "* Clearly, we can see from the above numbers that -\n",
    "    * the probability of CFC winning, given they have won their previous game is **higher**.\n",
    "* The contributing factors could be -\n",
    "    * High Energy, morale after the previous win!\n",
    "    * Greater confidence levels to keep th momemtum of winning high.\n"
   ]
  },
  {
   "cell_type": "markdown",
   "metadata": {},
   "source": [
    "<h3> Question 2.i (3 Marks)</h3>\n",
    "\n",
    "Calculate the probability of CFC not winning their next two games given that they won their previous game."
   ]
  },
  {
   "cell_type": "code",
   "execution_count": 608,
   "metadata": {},
   "outputs": [
    {
     "data": {
      "text/html": [
       "0.1086"
      ],
      "text/latex": [
       "0.1086"
      ],
      "text/markdown": [
       "0.1086"
      ],
      "text/plain": [
       "[1] 0.1086"
      ]
     },
     "metadata": {},
     "output_type": "display_data"
    }
   ],
   "source": [
    "count <- 0\n",
    "\n",
    "for( i in 2:total_number_of_games)\n",
    "{\n",
    "        if( data$binary[i - 1] == 1 & data$binary[i] == 0 & data$binary[i + 1] == 0 )\n",
    "        {\n",
    "                count <- count + 1\n",
    "        }\n",
    "}\n",
    "\n",
    "answer <- round( count/total_number_of_games, digits = 4)\n",
    "answer"
   ]
  },
  {
   "cell_type": "markdown",
   "metadata": {},
   "source": [
    "Thus, the probability of CFC not winning their next two games given that they won their previous game\n",
    "\n",
    "\\begin{eqnarray*}\n",
    "     Required Probability &=&  \\frac{Number Of Binary Occurrences of (1,0,0) }{Total Number Of Games Played} \\\\\n",
    "          &=& 0.1086               \n",
    "\\end{eqnarray*}"
   ]
  },
  {
   "cell_type": "markdown",
   "metadata": {},
   "source": [
    "<h2>Question 3 - Expectation - Challenge Question (10 Marks)</h2>\n",
    "\n",
    "Randomly place a point $P$ inside triangle $ABC$. Let $X$ be the continuous random variable representing the distance from point $P$ to $AB$. Find out $E(X)$ & $Var(X)$ (**5 Marks each**)\n",
    "\n",
    "\n",
    "**Note that this is a challenge question, only attempt if you are comfortable with your progress. You should not use consultations to ask about this question as the tutors will prioritize answering queries about other questions.**"
   ]
  },
  {
   "cell_type": "markdown",
   "metadata": {},
   "source": [
    "**ANSWER:**\n",
    "\n",
    "**Calculating the pdf of x:**\n",
    "* Let us draw a line from the vertex C to base AB.\n",
    "* Since Point P can lie anywhere inside the triangle, let us assume that P lies on this line.\n",
    "* Let x be the the distance of the point P from the base AB. \n",
    "* Let h be the height of the triangle.\n",
    "* Hence, from the question, \n",
    "    * we know that X is the continuous random variable representing the distance of this point P to the base AB.\n",
    "* Now, \n",
    "\n",
    "**The pdf can be calculated as:**\n",
    "\\begin{eqnarray*}\n",
    "     f(x) &=& \\frac{d}{dx} \\cdot P[X<=x] \\\\ \n",
    "          &=& \\frac{d}{dx} \\cdot (\\frac{h - x}{h})^{2} \\\\\n",
    "          &=& \\frac{2(h - x)}{h^{2}}          \n",
    "\\end{eqnarray*} \n",
    "\n",
    "\n",
    "**Hence, The pdf of X can be given as:**\n",
    "\n",
    "\\begin{equation*}\n",
    "    f(x)=\\left\\{\n",
    "                \\begin{array}{ll}\n",
    "                   \\frac{2(h - x)}{h^{2}} \\text{ if  }  0 \\le x \\le h\\\\\n",
    "                   0 \\text{ otherwise  }\n",
    "                \\end{array}\n",
    "              \\right.\n",
    "\\end{equation*}\n",
    "\n",
    "where $h$ =  Distance from vertex C to AB\n",
    "\n",
    "**Now, Mean of X can be given as:**\n",
    "\n",
    "\\begin{eqnarray*}\n",
    "     E[X] &=& \\int_{0}^h{ x \\cdot f(x) \\cdot dx} \\\\\n",
    "          &=& \\int_{0}^h{ \\frac{2x(h - x)}{h^{2}} \\cdot dx } \\\\\n",
    "          &=& \\frac{h}{3}                     \n",
    "\\end{eqnarray*}\n",
    "\n",
    "\n",
    "**Now,**\n",
    "\n",
    "\\begin{eqnarray*}\n",
    "     E[X^{2}] &=& \\int_{0}^h{ x^{2} \\cdot f(x) \\cdot dx} \\\\\n",
    "          &=& \\int_{0}^h{ \\frac{2x^{2}(h - x)}{h^{2}} \\cdot dx } \\\\\n",
    "          &=& \\frac{h^{2}}{6}                     \n",
    "\\end{eqnarray*}\n",
    "\n",
    "**Hence, Variance of x can be given as:**\n",
    "\\begin{eqnarray*}\n",
    "     V[X] &=& E[X^{2}] - E[X] \\\\\n",
    "          &=& \\frac{h^{2}}{18}                     \n",
    "\\end{eqnarray*}\n"
   ]
  },
  {
   "cell_type": "markdown",
   "metadata": {},
   "source": [
    "<h2>Question 4 - Distribution (10 Marks)</h2>\n",
    "\n",
    "The teaching team of FIT5197 is required to prepare 4 questions each week for the next week’s tutorial. The number of questions created in a week is said to have a Poisson distribution with mean 6."
   ]
  },
  {
   "cell_type": "markdown",
   "metadata": {},
   "source": [
    "<h3> Question 4.a (2 Marks) </h3>\n",
    "\n",
    "Find the probability that the teaching team manages to write enough questions for the following week?"
   ]
  },
  {
   "cell_type": "markdown",
   "metadata": {},
   "source": [
    "**ANSWER:**\n",
    "\n",
    "Here, it is given that the teaching team manages to write enough questions. \\\n",
    "Hence, $x = 4$ and $\\lambda$ = 6\n",
    "\n",
    "\\begin{eqnarray*}\n",
    "     P(x=4 | \\lambda) &=& \\frac{ \\lambda^4 \\exp \\left(-\\lambda \\right) }{4!} \\\\\n",
    "                      &=& \\frac{ 6^4 \\exp \\left(-6 \\right) }{4!} \\\\\n",
    "                      &=& 0.1339\n",
    " \\end{eqnarray*}\n"
   ]
  },
  {
   "cell_type": "code",
   "execution_count": 609,
   "metadata": {},
   "outputs": [
    {
     "data": {
      "text/html": [
       "0.1339"
      ],
      "text/latex": [
       "0.1339"
      ],
      "text/markdown": [
       "0.1339"
      ],
      "text/plain": [
       "[1] 0.1339"
      ]
     },
     "metadata": {},
     "output_type": "display_data"
    }
   ],
   "source": [
    "# Checking with the r function\n",
    "round( dpois(4,6), digits = 4)"
   ]
  },
  {
   "cell_type": "markdown",
   "metadata": {},
   "source": [
    "<h3> Question 4.b (4 Marks) </h3>\n",
    "\n",
    "Since some of the tutors in the teaching team are also responsible for other units from FIT, for each week, there is a probability of 40% that only half of the team will work on the questions. If that is the case, the teaching team can only create 3 questions on average. If the teaching team fails to finish 4 questions one week, what is the probability that only half of the team works that week?\n"
   ]
  },
  {
   "cell_type": "markdown",
   "metadata": {},
   "source": [
    "YOUR ANSWER HERE"
   ]
  },
  {
   "cell_type": "code",
   "execution_count": 610,
   "metadata": {},
   "outputs": [
    {
     "name": "stdout",
     "output_type": "stream",
     "text": [
      "[1] 0.6472319\n",
      "[1] 0.1512039\n"
     ]
    }
   ],
   "source": [
    "# Probability of failing, when only half the staff works.\n",
    "print ( dpois(0,3) + dpois(1,3) + dpois(2,3) + dpois(3,3))\n",
    "\n",
    "# Probability of failing, when the entire the staff works.\n",
    "print ( dpois(0,6) + dpois(1,6) + dpois(2,6) + dpois(3,6))"
   ]
  },
  {
   "cell_type": "markdown",
   "metadata": {},
   "source": [
    "**ANSWER:**\n",
    "\n",
    "**P(Full)** :- Probability of full staff working = 0.6 \\\n",
    "**P(Half)** :- Probability of half staff working = 0.4 \\\n",
    "**Now,** \\\n",
    "Here : **Failing** means making less than 4 questions in one week. \n",
    "* When half staff works, lambda = 3 \n",
    "    * Probability of half staff failing = 0.6472 \n",
    "    * Which Implies, Probability of half staff not failing i.e passing = 1 - 0.6472 = 0.3528\n",
    "* When full staff works, lambda = 6\n",
    "    * Probability of full staff failing = 0.1512 \n",
    "    * Which Implies, Probability of full staff not failing i.e passing = 1 - 0.1512 = 0.8488 \n",
    "    \n",
    "**Here, it is given that the teaching team fails.** \\\n",
    "**Hence, the required probability can be calculated as:**\n",
    "    \n",
    "\\begin{eqnarray*} \n",
    "\tP(Half/Fail) &=& \\frac{P(Half) \\cdot P(Fail/Half)}{P(Half) \\cdot P(Fail/Half) + P(Full) \\cdot P(Fail/Full)} \\\\\n",
    "\t&=& \\frac{ (0.4)(0.6472) }{(0.4)(0.6472) + (0.6)(0.1512)}   \\\\\n",
    "    &=&  0.7405\n",
    "\\end{eqnarray*}"
   ]
  },
  {
   "cell_type": "markdown",
   "metadata": {},
   "source": [
    "<h3> Question 4.c (4 Marks) </h3>\n",
    "\n",
    "On week 12, the teaching team decides to no longer limit to 4 questions, and instead use every question they create. If a student has a 40% chance of correctly answering questions, and this student is expected to answer 2 questions correctly in the coming tutorial, what is the probability that the whole teaching team worked on creating the questions that week?"
   ]
  },
  {
   "cell_type": "markdown",
   "metadata": {},
   "source": [
    "**ANSWER:**\n",
    "\n",
    "**P(Full)** :- Probability of full staff working = 0.6 \\\n",
    "**P(Half)** :- Probability of half staff working = 0.4 \\\n",
    "Now, \\\n",
    "Here, let the number of questions generated by the teaching team be N. \\\n",
    "And, student has a 40% chance of correctly answering questions. \\\n",
    "Also, student is expected to answer 2 questions correctly. \\\n",
    "Hence,\n",
    "\n",
    "\\begin{eqnarray*} \n",
    "\t\\Rightarrow& 0.4N &=& 2 \\\\\n",
    "\t\\Rightarrow& N &=& 5 \\\\\n",
    "\\end{eqnarray*}\n",
    "\n",
    "Hence, we now know that the number of questions generated are 5. \\\n",
    "Which, implies the teaching team has passed.\n",
    "\n",
    "Probability of full staff failing = 0.1512 \\\n",
    "Hence, Probability of full staff **passing** =1 - 0.1512 = 0.8488 \\\n",
    "Probability of half staff failing = 0.6472 \\\n",
    "Hence, Probability of half staff **passing** =1 - 0.6472 = 0.3528 \n",
    "\n",
    "**Here, we have found out that the teaching team has passed.** \\\n",
    "**Hence, the required probability can be calculated as:**\n",
    "\n",
    "\\begin{eqnarray*} \n",
    "\tP(Full/Pass) &=& \\frac{P(Full) \\cdot P(Pass/Full)}{P(Full) \\cdot P(Pass/Full) + P(Half) \\cdot P(Pass/Half)} \\\\\n",
    "\t&=& \\frac{ (0.6)(0.8488) }{(0.4)(0.3528) + (0.6)(0.8488)}   \\\\\n",
    "    &=&  0.7830\n",
    "\\end{eqnarray*}"
   ]
  },
  {
   "cell_type": "markdown",
   "metadata": {},
   "source": [
    "<h2>Question 5 - Maximum Likelihood Estimation (15 Marks)</h2>\n",
    "\n",
    "The exponential distribution is a probability distribution for non-negative real numbers. It is often used to model waiting or survival times. The version that we will look at has a probability density function of the form\n",
    "\n",
    "$p(y | v) = exp(−e^{−v}y − v)$\n",
    "\n",
    "where $y ∈ R_+$, i.e., y can take on the values of non-negative real numbers. In this form it has one parameter: a log-scale parameter $v$.  If a random variable follows an ``exponential distribution`` with log-scale $v$ we say that $Y ∼ Exp(v)$. If $Y ∼ Exp(v)$, then $E[Y] = e^v$ and $V[Y] = e^{2v}$."
   ]
  },
  {
   "cell_type": "markdown",
   "metadata": {},
   "source": [
    "<h3> Question 5.a (4 Marks) </h3>\n",
    "\n",
    "Imagine we are given a sample of n observations $y = (y_1, . . . , y_n)$. Write down the joint probability of this sample of data, under the assumption that it came from an exponential distribution with log-scale parameter $v$ (i.e., write down the likelihood of this data). Make sure to simplify your expression, and provide working."
   ]
  },
  {
   "cell_type": "markdown",
   "metadata": {},
   "source": [
    "**ANSWER:**\n",
    "\n",
    "The likelihood is equal to the product of the individual probabilities.\n",
    "\n",
    "**Step 1:** Multiplying the individual probabilities. \\\n",
    "**Step 2:** Taking out the common values outside. \\\n",
    "**Step 3:** Simplifying the expression.\n",
    "\n",
    "**Thus**, we have\n",
    "\n",
    "\\begin{eqnarray*} \n",
    "\tp({\\bf y} | v) &=& exp(−e^{−v}y1 − v) \\cdot exp(−e^{−v}y2 − v) \\cdots \\exp(−e^{−v}yn − v) \\\\\n",
    "\t&=& xe^{−xy1} \\cdot xe^{−xy2}  \\cdots xe^{−xyn}   \\\\\n",
    "    &=& x^{n}e^{−xy1} \\cdot e^{−xy2}  \\cdots e^{−xyn} \\\\\n",
    "    &=& x^{n}e^{-xy1 -xy2  \\cdots -xyn} \\\\\n",
    "    &=& x^{n}e^{-x (y1 + y2  \\cdots + yn )} \\\\\n",
    "    &=& x^{n}e^{-xm}\n",
    "\\end{eqnarray*}\n",
    "\n",
    "\n",
    "where $m = \\sum_{i=1}^n y_i$ \\\n",
    "where $x =  e^{−v}$ "
   ]
  },
  {
   "cell_type": "markdown",
   "metadata": {},
   "source": [
    "<h3> Question 5.b (2 Marks) </h3>\n",
    "\n",
    "Take the negative logarithm of your likelihood expression and write down the negative loglikelihood of the data $y$ under the exponential model with log-scale $v$. Simplify this expression"
   ]
  },
  {
   "cell_type": "markdown",
   "metadata": {},
   "source": [
    "**ANSWER:**\n",
    "\n",
    "The negative loglikelihood of the data $y$ under the exponential model with log-scale $v$ is given as follows:\n",
    "\n",
    "**Step 1:** Take the negative logarithm of the likelihood \\\n",
    "**Step 2:** Taking out the common values outside. \\\n",
    "**Step 3:** Substitute the value of $x =  e^{−v}$ \n",
    "\n",
    "**Thus**, we have\n",
    "\n",
    "\\begin{eqnarray*} \n",
    "\t -ln (p({\\bf y} | v)) &=&  -ln ( x^{n}e^{-xm} ) \\\\\n",
    "\t&=& -nln(x) -nln(e^{-xm})  \\\\\n",
    "    &=& -nln(x) + xm \\\\\n",
    "    &=& -nln(e^{−v}) + e^{−v}m \\\\\n",
    "    &=&  nv + e^{−v}m \n",
    "\\end{eqnarray*}\n",
    "\n",
    "\n",
    "where $m = \\sum_{i=1}^n y_i$ \\\n",
    "where $x =  e^{−v}$ "
   ]
  },
  {
   "cell_type": "markdown",
   "metadata": {},
   "source": [
    "<h3> Question 5.c (4 Marks) </h3>\n",
    "\n",
    "Derive the maximum likelihood estimator $\\hat{v}$ for $v$. That is, find the value of $v$ that minimises the negative log-likelihood. You must provide working."
   ]
  },
  {
   "cell_type": "markdown",
   "metadata": {},
   "source": [
    "**ANSWER:**\n",
    "\n",
    "The maximum likelihood estimator  $\\hat{v}$ for $v$ for a given data sample ${\\bf y}$ is given as follows:\n",
    "\n",
    "\n",
    "**Step 1:** Differentiate the negative log-likelihood function with respect to  $v$. \\\n",
    "**Step 2:** Set the derivative to zero. \\\n",
    "**Step 3:** Solve for $v$.\n",
    "\n",
    "Begin by differentiate the negative log-likelihood with respect to our parameter of interest $v$:\n",
    "\t\\begin{eqnarray*}\n",
    "\t\t\\frac{d \\, \\ell({\\bf v} ; v)}{d v} &=&  \\frac{d \\,(nv)}{dv} + \\frac{d \\, (me^{-v}) }{dv} \\\\\n",
    "\t\t\t\t\t\t\t\t\t\t&=& n + m(-e^{-v}) \\\\ \n",
    "                                        &=& n - me^{-v}\n",
    "\t\\end{eqnarray*}\n",
    "\tThen we need to set this to zero and solve for $v$:\n",
    "\t\\begin{eqnarray*}\n",
    "\t\t& n - me^{-v} &= 0 \\\\\n",
    "\t\t\\Rightarrow& n &= me^{-v} \\\\\n",
    "\t\t\\Rightarrow& e^{-v} &= \\frac{n}{m} \\\\\n",
    "        \\Rightarrow& v &= ln( \\frac{m}{n} )\n",
    "\t\\end{eqnarray*}\n",
    "    \n",
    " \\begin{eqnarray*}\n",
    "     \\hat{v}_{\\rm ML}({\\bf y}) &= ln( \\frac{m}{n} )\n",
    " \\end{eqnarray*}\n",
    "\t\n",
    "where $m = \\sum_{i=1}^n y_i$ "
   ]
  },
  {
   "cell_type": "markdown",
   "metadata": {},
   "source": [
    "<h3> Question 5.d (5 Marks) </h3>\n",
    "\n",
    "Determine the approximate bias and variance of the maximum likelihood estimator $\\hat{v}$ of $v$ for the exponential distribution.\n",
    "\n",
    "**Note that this is a challenge question, only attempt if you are comfortable with your progress. You should not use consultations to ask about this question as the tutors will proritize answering queries about other questions.**"
   ]
  },
  {
   "cell_type": "markdown",
   "metadata": {},
   "source": [
    "**ANSWER:**\n",
    "\n",
    "Here,  $Y ∼ Exp(v)$,then \\\n",
    "**Mean:** $E[Y] = e^v$ \\\n",
    "**Variance:** $V[Y] = e^{2v}$.\n",
    "\n",
    "We can **approximate** the maximum likelihood estimator to be the **probability density function** \\\n",
    "The maximum likelihood estimator helps us in determining the parameters that best help us describe the data \\\n",
    "This data is also given by the probability density function which provides the likelihood of the variable in the data\n",
    "\n",
    "**Step 1: Calculating the Mean and Bias** \\\n",
    "Here, it is given that y follows and exponential distribution. \\\n",
    "And, y takes values from $y_1$ to $y_n.$\\\n",
    "Hence, the Mean is given as follows:\n",
    "\n",
    "\\begin{eqnarray*}\n",
    "     E[ \\hat{v}_{\\rm ML}({\\bf y}) ] &=& \\int_{0}^v{ x \\cdot f(x) \\cdot dx} \\\\\n",
    "          &=& \\int_{0}^v{ x \\cdot ln( \\frac{m}{n} ) \\cdot dx } \\\\\n",
    "          &=& \\frac{v^{2}}{2} \\cdot ln( \\frac{m}{n} )                  \n",
    "\\end{eqnarray*}\n",
    "\n",
    "Hence, Bias can be given as:\n",
    "\\begin{eqnarray*}\n",
    "     b[ \\hat{v}_{\\rm ML}({\\bf y}) ] &=& E[ \\hat{v}_{\\rm ML}({\\bf y}) ] - v \\\\\n",
    "          &=& \\frac{v^{2}}{2} \\cdot ln( \\frac{m}{n} ) - v\n",
    "\\end{eqnarray*}\n",
    "\n",
    "**Step 2: Calculating the Varince**\n",
    "* The variance of the maximum likelihood estimator can be given as:\n",
    "\\begin{eqnarray*}\n",
    "     V[ \\hat{v}_{\\rm ML}({\\bf y}) ] &=& E[ ( \\hat{v}_{\\rm ML}({\\bf y}) - E[ \\hat{v}_{\\rm ML}({\\bf y}) ])^{2} ]\\\\\n",
    "          &=& E[ ln( \\frac{m}{n} ) - \\frac{v^{2}}{2} \\cdot ln( \\frac{m}{n} ) )^{2} ]  \\\\    \n",
    "          &=& E[ t - \\frac{v^{2}}{2} \\cdot t ) )^{2} ] \\\\   \n",
    "          &=& E[ \\frac{t^{2}( 4 + v^{4} - 4v^{2} )}{4} ] \\\\\n",
    "          &=& \\int_{0}^v{ v \\cdot \\frac{t^{2}( 4 + v^{4} - 4v^{2} )}{4} \\cdot dx } \\\\\n",
    "          &=& \\frac{v^{2}t^{2}( 12 + v^{4} - 6v^{2} ) }{24}\n",
    "\\end{eqnarray*}\n",
    "\n",
    "where $m = \\sum_{i=1}^n y_i$ \\\n",
    "where $t = ln( \\frac{m}{n} )$ "
   ]
  },
  {
   "cell_type": "markdown",
   "metadata": {},
   "source": [
    "<h2>Question 6 - Central Limit Theorem (15 Marks)</h2>\n",
    "\n",
    "Sampling Process: Assume that we randomly select samples of the same size $n$ an infinite number of times from a population that follows a Poisson distribution with mean of $\\lambda$, and then, we calculate the mean of scores in each sample. "
   ]
  },
  {
   "cell_type": "markdown",
   "metadata": {},
   "source": [
    "<h3> Question 6.a (2 Marks) </h3>\n",
    "\n",
    "What does Central Limit Theorem tell us about the sampling distribution of the sample mean?"
   ]
  },
  {
   "cell_type": "markdown",
   "metadata": {},
   "source": [
    "**ANSWER:**\n",
    "\n",
    "The **Central Limit Theorem** states that if you have a population with **mean μ** and **standard deviation σ** and take sufficiently large random samples from the population with replacement , then the **distribution** of the **sample means** will be approximately **normally distributed** **as follows** for large values of n.\n",
    "\n",
    "$$\n",
    " =\\begin{align}\n",
    "N\\left [ μ,{\\frac{1}{n}σ^2} \\right ]\n",
    "\\end{align}\n",
    "$$\n",
    "\n",
    "In Poisson Distribution, we know:\n",
    "* **Mean = $\\lambda$**\n",
    "* **Variance = $\\lambda$**\n",
    "\n",
    "**Pois($\\lambda$)** approaches **N($\\lambda$,$\\lambda$)** for large **$\\lambda$**"
   ]
  },
  {
   "cell_type": "markdown",
   "metadata": {},
   "source": [
    "<h3> Question 6.b (3 Marks) </h3>\n",
    "\n",
    "For three different Poisson populations with mean of $\\lambda_1$ = 1, $\\lambda_2$ = 5 and $\\lambda_3$ = 20, we will do the sampling four separate times -- for small samples (n=10), for samples of 100 subjects (n=100) and 1000 subjects (n=1000), and once for big samples (n=10000).\n",
    "\n",
    "Based on your answer from 6.a, compute the parameter values for each sampling distribution in R. "
   ]
  },
  {
   "cell_type": "code",
   "execution_count": 623,
   "metadata": {},
   "outputs": [],
   "source": [
    "# Function to calculate mean and standard deviation\n",
    "calculate_mean_sd <- function(n, lambda) \n",
    "{\n",
    "        # Displaying the n and lambda values\n",
    "        cat(\"\\n n =\",n)\n",
    "        cat(\"\\n lambda =\",lambda)\n",
    "    \n",
    "        cat(\"\\n\")\n",
    "        # Storing the mean and sd values in a list names result\n",
    "        result <- list()\n",
    "        result$mean_value <- mean(rpois(n,lambda))\n",
    "        result$sd_value <- sd(rpois(n,lambda))\n",
    "        \n",
    "        #return (result)\n",
    "        cat(\"\\n Mean =\",result$mean_value)\n",
    "        cat(\"\\n Standard Deviation =\",result$sd_value)\n",
    "        cat(\"\\n --------------------------------\\n \")\n",
    "          \n",
    "}"
   ]
  },
  {
   "cell_type": "code",
   "execution_count": 624,
   "metadata": {},
   "outputs": [
    {
     "name": "stdout",
     "output_type": "stream",
     "text": [
      "\n",
      " n = 10\n",
      " lambda = 1\n",
      "\n",
      " Mean = 1\n",
      " Standard Deviation = 0.5163978\n",
      " --------------------------------\n",
      " \n",
      " n = 100\n",
      " lambda = 1\n",
      "\n",
      " Mean = 1.09\n",
      " Standard Deviation = 0.8348471\n",
      " --------------------------------\n",
      " \n",
      " n = 1000\n",
      " lambda = 1\n",
      "\n",
      " Mean = 1.036\n",
      " Standard Deviation = 0.9763982\n",
      " --------------------------------\n",
      " \n",
      " n = 10\n",
      " lambda = 5\n",
      "\n",
      " Mean = 5\n",
      " Standard Deviation = 3.198958\n",
      " --------------------------------\n",
      " \n",
      " n = 100\n",
      " lambda = 5\n",
      "\n",
      " Mean = 5.14\n",
      " Standard Deviation = 2.38336\n",
      " --------------------------------\n",
      " \n",
      " n = 1000\n",
      " lambda = 5\n",
      "\n",
      " Mean = 4.994\n",
      " Standard Deviation = 2.258932\n",
      " --------------------------------\n",
      " \n",
      " n = 10\n",
      " lambda = 20\n",
      "\n",
      " Mean = 19.4\n",
      " Standard Deviation = 3.683296\n",
      " --------------------------------\n",
      " \n",
      " n = 100\n",
      " lambda = 20\n",
      "\n",
      " Mean = 19.91\n",
      " Standard Deviation = 4.398932\n",
      " --------------------------------\n",
      " \n",
      " n = 1000\n",
      " lambda = 20\n",
      "\n",
      " Mean = 19.925\n",
      " Standard Deviation = 4.404919\n",
      " --------------------------------\n",
      " "
     ]
    }
   ],
   "source": [
    "# Calling the function to calculate the mean and sd values\n",
    "\n",
    "for (lambda in c(1,5,20))\n",
    " for (n in c(10,100,1000)) \n",
    "        calculate_mean_sd(n,lambda)        "
   ]
  },
  {
   "cell_type": "markdown",
   "metadata": {},
   "source": [
    "<h3> Question 6.c (5 Marks) </h3>\n",
    "\n",
    "In this question, you are asked to experimentally justify the result in the CLT Theorem.\n",
    "\n",
    "For different sample sizes of $n$ = 10, 100 and 1000, use 50000 simulations (i.e. to approximate the infinite times we drew samples as mentioned before) to implement the sampling process.\n",
    "\n",
    "From those 50000 sample means, compute the mean and standard deviation parameters (3 sample sizes and 3 $\\lambda$ rates, 9 pairs of parameters in total).\n",
    "\n",
    "Discuss how the results reflect the CLT. Plot the results ( mean and standard deviation separately) to demonstrate any effects you want to discuss."
   ]
  },
  {
   "cell_type": "markdown",
   "metadata": {},
   "source": [
    "**How the results reflect the CLT:**\n",
    "\n",
    "* As the sample size **increases**, the mean and standard deviation **decreases.**\n",
    "    * This is because as the sample size increases, the sample means cluster more and more around the true mean.\n",
    "    * Hence, the standard error i.e standard deviation **decreases.**"
   ]
  },
  {
   "cell_type": "code",
   "execution_count": 625,
   "metadata": {},
   "outputs": [],
   "source": [
    "# Function to calculate the parameters\n",
    "simulate <- function(n, lambda) \n",
    "{\n",
    "    # To store the different mean values\n",
    "    sample_mean = rep(0,50000)\n",
    "    for (i in 1:50000) \n",
    "    {\n",
    "        sample_mean[i] = mean(rpois(n,lambda))\n",
    "        \n",
    "        # Storing the mean and sd values in result \n",
    "        result <- list()\n",
    "        result$mean_value <- mean(sample_mean)\n",
    "        result$sd_value <- sd(sample_mean)\n",
    "        \n",
    "        # Returning this result value\n",
    "        return (result)\n",
    "    }\n",
    "    \n",
    "}"
   ]
  },
  {
   "cell_type": "code",
   "execution_count": 626,
   "metadata": {},
   "outputs": [
    {
     "name": "stdout",
     "output_type": "stream",
     "text": [
      "$mean_value\n",
      "[1] 1.4e-05\n",
      "\n",
      "$sd_value\n",
      "[1] 0.003130495\n",
      "\n",
      "\n",
      " ------------------- \n",
      " $mean_value\n",
      "[1] 1.96e-05\n",
      "\n",
      "$sd_value\n",
      "[1] 0.004382693\n",
      "\n",
      "\n",
      " ------------------- \n",
      " $mean_value\n",
      "[1] 1.946e-05\n",
      "\n",
      "$sd_value\n",
      "[1] 0.004351388\n",
      "\n",
      "\n",
      " ------------------- \n",
      " $mean_value\n",
      "[1] 7.2e-05\n",
      "\n",
      "$sd_value\n",
      "[1] 0.01609969\n",
      "\n",
      "\n",
      " ------------------- \n",
      " $mean_value\n",
      "[1] 0.0001014\n",
      "\n",
      "$sd_value\n",
      "[1] 0.02267373\n",
      "\n",
      "\n",
      " ------------------- \n",
      " $mean_value\n",
      "[1] 0.00010184\n",
      "\n",
      "$sd_value\n",
      "[1] 0.02277212\n",
      "\n",
      "\n",
      " ------------------- \n",
      " $mean_value\n",
      "[1] 0.000456\n",
      "\n",
      "$sd_value\n",
      "[1] 0.1019647\n",
      "\n",
      "\n",
      " ------------------- \n",
      " $mean_value\n",
      "[1] 0.0004018\n",
      "\n",
      "$sd_value\n",
      "[1] 0.08984521\n",
      "\n",
      "\n",
      " ------------------- \n",
      " $mean_value\n",
      "[1] 0.000397\n",
      "\n",
      "$sd_value\n",
      "[1] 0.0887719\n",
      "\n",
      "\n",
      " ------------------- \n",
      " "
     ]
    }
   ],
   "source": [
    "# Calling the function to calculate the parameters\n",
    "for (lambda in c(1,5,20)) \n",
    "{\n",
    "    for (n in c(10,100,1000)) \n",
    "    {\n",
    "        print( (simulate(n,lambda)) )\n",
    "        cat(\"\\n ------------------- \\n \")\n",
    "    }\n",
    "    \n",
    "}"
   ]
  },
  {
   "cell_type": "code",
   "execution_count": 627,
   "metadata": {},
   "outputs": [],
   "source": [
    "# Function to plot the mean\n",
    "plot_mean <- function(n,lambda)\n",
    "{\n",
    "    sample_mean = rep(0,n)\n",
    "    \n",
    "    for (i in 1:50000) \n",
    "        sample_mean[i] = mean(rpois(n,lambda))\n",
    "        \n",
    "        # Plotting an histogram of the means\n",
    "        h = hist(sample_mean, xlab =\"Mean\", \n",
    "        col=ifelse(n<11, 'blue', ifelse( n<101,'red', ifelse(n<1001,'green','yellow') )),                                                   \n",
    "        breaks = 30, freq = F,\n",
    "        main=sprintf(\"n=%s, lambda=%s\", n, lambda),\n",
    "        cex.lab=2, cex.axis=1.5, cex.main=2.5, cex.sub=1.5) \n",
    "}"
   ]
  },
  {
   "cell_type": "code",
   "execution_count": 628,
   "metadata": {},
   "outputs": [],
   "source": [
    "# Function to plot the standard deviation\n",
    "plot_sd <- function(n,lambda)\n",
    "{\n",
    "    sample_deviation = rep(0,n)\n",
    "    \n",
    "    for (i in 1:50000) \n",
    "        sample_deviation[i] = sd(rpois(n,lambda))\n",
    "        \n",
    "        # Plotting an histogram of the standard deviations\n",
    "        h = hist(sample_deviation, xlab =\"Standard Deviation\", \n",
    "        col=ifelse(n<11, 'blue', ifelse( n<101,'red', ifelse(n<1001,'green','yellow') )),\n",
    "        breaks = 30, freq = F,\n",
    "        main=sprintf(\"n=%s, lambda=%s\", n, lambda),\n",
    "        cex.lab=2, cex.axis=1.5, cex.main=2.5, cex.sub=1.5)  \n",
    "}"
   ]
  },
  {
   "cell_type": "code",
   "execution_count": 629,
   "metadata": {
    "scrolled": true
   },
   "outputs": [
    {
     "data": {
      "image/png": "[encoded data removed]",
      "text/plain": [
       "Plot with title \"n=1000, lambda=20\""
      ]
     },
     "metadata": {
      "image/png": {
       "height": 1200,
       "width": 1200
      },
      "text/plain": {
       "height": 1200,
       "width": 1200
      }
     },
     "output_type": "display_data"
    }
   ],
   "source": [
    "# Calling the function to plot means\n",
    "\n",
    "par(mfrow=c(3, 3))\n",
    "options(repr.plot.width=20, repr.plot.height=20)\n",
    "\n",
    "for (lambda in c(1,5,20)) {\n",
    "    for (n in c(10,100,1000)) {\n",
    "        plot_mean(n, lambda)\n",
    "    }\n",
    "}"
   ]
  },
  {
   "cell_type": "code",
   "execution_count": 630,
   "metadata": {
    "scrolled": true
   },
   "outputs": [
    {
     "data": {
      "image/png": "[encoded data removed]",
      "text/plain": [
       "Plot with title \"n=1000, lambda=20\""
      ]
     },
     "metadata": {
      "image/png": {
       "height": 1200,
       "width": 1200
      },
      "text/plain": {
       "height": 1200,
       "width": 1200
      }
     },
     "output_type": "display_data"
    }
   ],
   "source": [
    "# Calling the function to plot standard deviations\n",
    "\n",
    "par(mfrow=c(3, 3))\n",
    "options(repr.plot.width=20, repr.plot.height=20)\n",
    "\n",
    "for (lambda in c(1,5,20)) {\n",
    "    for (n in c(10,100,1000)) {\n",
    "        plot_sd(n, lambda)\n",
    "    }\n",
    "}"
   ]
  },
  {
   "cell_type": "markdown",
   "metadata": {},
   "source": [
    "<h3> Question 6.d (5 Marks) </h3>\n",
    "\n",
    "When rate $\\lambda_1$ = 1 and $\\lambda_2$ = 5 and sample size $n$ is 10 or 100, obtain the z scores of the sample means (from 50000 simulations). Plot their distributions in a histogram with the theoretical Gaussian curve overlaid.\n",
    "\n",
    "Note that for sample size 100, the plots overlay very nicely. But what happens with sample size 10? Explain the\n",
    "differences between the four plots.\n",
    "\n",
    "For each simulation: the z score of the mean can be calculated as:\n",
    "$$\n",
    "\\frac{(\\bar{X}-\\mu)}{\\sigma / \\sqrt{n}}\n",
    "$$\n",
    "where $\\bar{X}$ is the mean of the sample, $\\mu$ is the population mean and $\\sigma$ is the population standard deviation."
   ]
  },
  {
   "cell_type": "code",
   "execution_count": 631,
   "metadata": {},
   "outputs": [],
   "source": [
    "# Function for calculating and plotting the zscore\n",
    "plot_z_score <- function(lambda,n)\n",
    "{  \n",
    "    # Calculating the population mean and standard deviation values \n",
    "    mean_value = lambda\n",
    "    sd_value = sqrt(lambda/n)\n",
    "    \n",
    "    # To store the values of the z_Score and sample means\n",
    "    z_score_values = rep(0,50000)\n",
    "    sample_means = rep(0,50000)\n",
    "    \n",
    "    for (i in 1:50000) \n",
    "    {\n",
    "        sample_means[i] = mean(rpois(n,lambda))\n",
    "        z_score_values[i] = (sample_means[i] - mean_value)/(sd_value/sqrt(n)) \n",
    "    }\n",
    "    #f = function(x, mean = mean_value, sd = sd_value) dnorm(x, mean = mean, sd = sd)\n",
    "    \n",
    "    hist(z_score_values, xlab =\"Z Score\", col=ifelse(n<99,'green','yellow'), breaks = 40,freq=F)\n",
    "    #curve(f, from = min(z_score), to = max(z_score), add = T)\n",
    "    curve( dnorm(x, mean = mean(z_score_values), sd = sd(z_score_values)), add = T )\n",
    "         \n",
    "} "
   ]
  },
  {
   "cell_type": "code",
   "execution_count": 620,
   "metadata": {},
   "outputs": [
    {
     "data": {
      "image/png": "[encoded data removed]",
      "text/plain": [
       "Plot with title \"Histogram of z_score_values\""
      ]
     },
     "metadata": {
      "image/png": {
       "height": 600,
       "width": 1200
      },
      "text/plain": {
       "height": 600,
       "width": 1200
      }
     },
     "output_type": "display_data"
    }
   ],
   "source": [
    "# Calling the zscore function to plot the graphs\n",
    "par(mfrow=c(2, 2))\n",
    "options(repr.plot.width=20, repr.plot.height=10)\n",
    "\n",
    "for (lambda in c(1,5)) {\n",
    "    for (n in c(10,100)) {\n",
    "        plot_z_score(lambda,n)\n",
    "    }\n",
    "}"
   ]
  },
  {
   "cell_type": "markdown",
   "metadata": {},
   "source": [
    "**Difference between the four plots:**\n",
    "\n",
    "\n",
    "* When N = 10, The calculated values of the zscore are **slightly different** from the theoretical values of zscore.\n",
    "* Also, When N = 10, the values of zscore lie in between 0 and 0.20\n",
    "* When N = 100, We can notice than an increase in the value of N, causes a **significant** decrease in the value of zscore.\n",
    "* Hence, When N = 100, the values of zscore lie in between 0 and 0.04\n",
    "* As the value of lambda increases, there are **higher variations** in the values of zscore.\n",
    "* For lambda = 1, the values of zscore increase evenly and then they decrease after a point.\n",
    "* However, for lambda = 5, the values of zscore do not follow any pattern. \n",
    "    * They gradually increase till a point, then there is a sudden spike and then they decrease suddenly.\n",
    "    * These variations of sudden increase followed by a sudden decrease are greater as the value of N increases.\n",
    "    \n",
    "**Also, we notice that the graph is not smooth when N=10. However, as the value of N increases, the graph becomes smoother.**\n",
    "   "
   ]
  }
 ],
 "metadata": {
  "kernelspec": {
   "display_name": "R",
   "language": "R",
   "name": "ir"
  },
  "language_info": {
   "codemirror_mode": "r",
   "file_extension": ".r",
   "mimetype": "text/x-r-source",
   "name": "R",
   "pygments_lexer": "r",
   "version": "3.6.1"
  }
 },
 "nbformat": 4,
 "nbformat_minor": 2
}
