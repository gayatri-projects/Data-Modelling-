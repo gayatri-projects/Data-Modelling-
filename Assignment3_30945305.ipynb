{
 "cells": [
  {
   "cell_type": "markdown",
   "metadata": {},
   "source": [
    "<h1> FIT5197 Assignment 3 Semester 1, 2020 </h1>\n",
    "    \n",
    "<h2> <span style=\"color:green\"> Do </span> & <span style=\"color:red\">Don't</span> </h2>\n",
    "\n",
    "1. <span style=\"color:green\">Some of these policies are similar to your assignment 1; however, please read carefully as there are some differences between this assignment and the first assignment.</span>\n",
    "\n",
    "3. <span style=\"color:green\">These questions are meant for you to solve independently, we encourage students to figure out the questions themselves as it would be good for their understandings of the topics; however, please feel free to consult your tutors if needed. Plagiarism (either from using online sources or copying the answers from your classmates) will be penalised accordingly.</span>\n",
    "\n",
    "5. <span style=\"color:green\">Requests for special consideration or extension must be submitted at least 2 days BEFORE THE DEADLINE. The due date is on Sunday, so the latest day you can ask for extension is on Friday (the last official working day of the week for the teaching team). Please follow Monash guideline to request for extensions (medical certificates, doctor or GP letter, etc). Emergencies are to be adjusted individually.</span>\n",
    "\n",
    "8. <span style=\"color:green\">Please show all working when answering questions, you will not get full marks for a question if you don't comply.</span>\n",
    "\n",
    "11. <span style=\"color:green\">Assignments need to be submitted in PDF and ipynb file format. Failure to comply will result in 20% penalty on each missing file. </span>\n",
    "\n",
    "12. <span style=\"color:green\">Filename format for submitting the assignment should be “Assignment3_StudentId.pdf” and \"Assignment3_StudentId.ipynb\". Files with the wrong format incurs 20% penalty each.</span>\n",
    "\n",
    "13. <span style=\"color:green\">This assignment has 10 marks for presentation, this includes presenting your explanation in **Markdown**, writing and commenting on code efficiently, creating good plots with clear labels on the axis, etc.</span>\n",
    "\n",
    "14. <span style=\"color:green\">Only answers with correct methodology will be considered for consequential marks. Meaning if you attempt the question and your answer is incorrect, but your methodology is correct, you will still receive partial marks for subsequent questions. However, answers with incorrect methodology (misunderstanding the questions) will generate no marks for subsequent questions.</span>\n",
    "\n",
    "15. <span style=\"color:green\">Challenge questions are for students aiming to get a HD for the assignment. We don't advise for students to spend time on these questions before finishing all the other parts in the assignment. This assignment is designed in a way that students can get up to 80 (HD) without attempting the challenge questions.</span>\n",
    "\n",
    "10. <span style=\"color:red\">Please don’t send emails to tutors asking for suggestions, we have Moodle and consultations for that, In writing your inquiries on Moodle please try to be clear in your problem and not revealing your working to others as this might be counted as plagiarism on your part. A good format for inquiry topic would be e.g. “Assignment 3 – Tutorial 10 (your tutorial slot) – Question about median\"</span>\n",
    "\n",
    "2. <span style=\"color:red\">Handwritten answers incur a penalty of 10% on your assignment, you have Markdown, please learn how to use it as it will be an useful skill for you going through the degree as well as in real life situation.</span>\n",
    "\n",
    "3. This assignment will contribute towards 20% of your total score.\n",
    "\n",
    "7. Late submission is 5% per day, after 10 days you will be given no marks. Late submission is calculated as follows: If you get 70% on this assignment and you are late for 2 days (you submit on Tuesday), your score is now 70% -10% (2x5% per day) = 60%. This is done to ensure that the teaching team can release your result as soon as possible so that you can review on your mistakes and have a better study experience.\n",
    "\n",
    "9. Assignments shall be marked completely in two weeks’ time according to Monash Policies. If there are any changes to the marking time, we will duly inform you. Solutions will not be released for this assignment; you can come to the tutorial and ask for explanation about how to solve the questions after scores are released."
   ]
  },
  {
   "cell_type": "markdown",
   "metadata": {},
   "source": [
    "<h2>Part 1 - Hypothesis Testing & Confidence Interval (45 Marks)</h2>\n",
    "\n",
    "__<span style=\"color:red\"> No R codes, libraries of any kinds should be used in this part, using libraries here results in 0 marks</span>__"
   ]
  },
  {
   "cell_type": "markdown",
   "metadata": {},
   "source": [
    "<h3> Question 1. (5 Marks)</h3>\n",
    "\n",
    "An online article believe that teenagers currently spends at least 10h online per week (should be significantly higher than this). the principal of one highschool believes that her students spend significantly less time online; thus, she would like to perform an experimental testing on the subject by collecting 100 surveys from her students. The results came back that the average time the students claim spending online is roughly 8.5 hours/week with the standard deviation of 2h.\n",
    "\n",
    "**Based on these findings, What would be your conclusion on the matter? Use a 0.05 level of significance.**"
   ]
  },
  {
   "cell_type": "markdown",
   "metadata": {},
   "source": [
    "**Given :**\\\n",
    "Number of surveys : = 100 \\\n",
    "Mean : $\\mu = 8.5$ \\\n",
    "Testing Value : $$\\mu_i = 10$$ \\\n",
    "Standard Deviation : $\\sigma = 2 $ \n",
    "\n",
    "**Solution :**\\\n",
    "**Part 1:**\n",
    "Calculating z value\n",
    "\\begin{eqnarray*}\n",
    "   z_u &=& \\frac{( \\mu - \\mu_0 )}{\\frac{\\sigma}{\\sqrt{n}}} \\\\\n",
    "      &=& \\frac{( 8.5 - 10 )}{\\frac{2}{\\sqrt{100}}} \\\\\n",
    "      &=& \\frac{( -1.5)}{{0.2}} \\\\\n",
    "      &=& -7.5                        \n",
    "\\end{eqnarray*}\n",
    "\n",
    "**Part 2:** \n",
    "Calculating p value  \\\n",
    "\\begin{eqnarray*}\n",
    "   p  &=& 1 - p( -|z_u| < z < |z_u| ) \\\\\n",
    "           &=& 1 - p( -7.5 < z < 7.5 )\\\\\n",
    "           &=& 0                       \n",
    "\\end{eqnarray*}\n",
    "The z score can be approximated to 0.\n",
    "\n",
    "**Conclusion on the matter :** \n",
    "* Here, the p-value is really small.\n",
    "* This indicates strong evidence against the null hypothesis, so you reject the null hypothesis. \n",
    "    * Thus, the hypothesis that teenagers spend around 10 hours online per week can be rejected. \n",
    "    * Hence, the online article's hypothesis is wrong and the principal's hypothesis is correct!"
   ]
  },
  {
   "cell_type": "markdown",
   "metadata": {},
   "source": [
    "<h3> Question 2. (10 Marks)</h3>\n",
    "\n",
    "The light bulb in Monash university normally has a lifetime of about 1500 hours with a standard deviation of 100 hours. How many of these light bulbs should Monash stock up so that it can guarrantee that the light will be on for at least 7200 hours with a probability of at least 98%?"
   ]
  },
  {
   "cell_type": "markdown",
   "metadata": {},
   "source": [
    "**Given :**\\\n",
    "Let the number of light bulbs be **n** \\\n",
    "Mean : $\\mu = 1500$ \\\n",
    "Testing Value : $$\\mu_i = (7200/n)$$ \\\n",
    "Standard Deviation : $\\sigma = 100 $ \n",
    "\n",
    "\n",
    "**Solution :**\\\n",
    "**Part 1:**\n",
    "Calculating z value\n",
    "\\begin{eqnarray*}\n",
    "   z_u &=& \\frac{( \\mu - \\mu_0 )}{\\frac{\\sigma}{\\sqrt{n}}} \\\\\n",
    "      &=& \\frac{( 1500 - {\\frac{7200}{n}}  )}{100}                         \n",
    "\\end{eqnarray*}\n",
    "\n",
    "**Part 2:** \n",
    "P value is given as 0.98  \\\n",
    "\\begin{eqnarray*}\n",
    "   1 - p( -|z_u| < z < |z_u| )  &=& 0.98 \\\\\n",
    "         2( z < -|z_u|) &=&  0.98 \\\\\n",
    "         ( z < -|z_u|) &=&  0.49 \\\\\n",
    "         z_u &=& -2.05\n",
    "\\end{eqnarray*}\n",
    "\n",
    "**Part 2:** \n",
    "Solving for n from Part 1 and Part 2 \\\n",
    "\\begin{eqnarray*}\n",
    "   \\frac{( 1500 - {\\frac{7200}{n}}  )}{100}  &=& -2.05 \\\\\n",
    "        ( 15 - {\\frac{72}{n}}  ) &=&  -2.05 \\\\\n",
    "          n &=&  5.56 \n",
    "\\end{eqnarray*}\n",
    "\n",
    "**Answer:**\n",
    "Hence, the number of light bulbs that Monash can stock up is 6."
   ]
  },
  {
   "cell_type": "markdown",
   "metadata": {},
   "source": [
    "<h3> Question 3. (10 Marks)  </h3>\n",
    "\n",
    "The error for the production of a machine is uniformly distribute over [-0.75, 0.75] unit. Assuming that there are 100 machines working at the same time, approximate the probability that the final production differ from the exact production by more than 4.5 unit?"
   ]
  },
  {
   "cell_type": "markdown",
   "metadata": {},
   "source": [
    "YOUR ANSWER HERE"
   ]
  },
  {
   "cell_type": "markdown",
   "metadata": {},
   "source": [
    "**Given:**\n",
    "Error is Uniformly Distributed over [-0.75,0.75] \\\n",
    "a = -0.75 \\\n",
    "b = 0.75 \\\n",
    "Number of Machines (n) = 100\n",
    "\n",
    "**To Find:** P(X > 4.5)\n",
    "\n",
    "**Solution:** \\\n",
    "**Since, it is a Uniform Distribution,** \\\n",
    "**Mean and Variance can be calculated as follows:** \\\n",
    "**Step 1 :**\n",
    "Calculating $\\mu$ :\n",
    "\n",
    "\\begin{eqnarray*}\n",
    "   \\mu  &=& \\frac{a + b}{2} \\\\\n",
    "        &=& \\frac{-0.75 + 0.75}{2} \\\\\n",
    "        &=&  0\n",
    "\\end{eqnarray*}\n",
    "\n",
    "**Step 2 :**\n",
    "Calculating $ \\sigma $ :\n",
    "\n",
    "\\begin{eqnarray*}\n",
    "   \\sigma^{2}  &=& \\frac{(b - a)^{2}}{12} \\\\\n",
    "               &=& \\frac{(1.5)^{2}}{12} \\\\\n",
    "               &=& \\frac{3}{16} \\\\\n",
    "               &=& 0.433\n",
    "\\end{eqnarray*}\n",
    "\n",
    "**Step 3:** \\\n",
    "For Large Samples, i.e for n = 100 \n",
    "\n",
    "\\begin{eqnarray*}\n",
    "   \\sigma^{'} &=& \\sigma(\\sqrt{n}) \\\\\n",
    "              &=& 0.433 \\cdot \\sqrt{100} \\\\\n",
    "              &=& 4.33              \n",
    "\\end{eqnarray*}\n",
    "\n",
    "**Step 4:** \\\n",
    "P(X > 4.5)\n",
    "\n",
    "\\begin{eqnarray*}\n",
    "    P(X > 4.5) &=& P( \\frac{x - \\mu}{\\sigma} > \\frac{4.5 - \\mu}{\\sigma}) \\\\\n",
    "               &=& P( z > \\frac{4.5 - 0}{4.33}) \\\\\n",
    "               &=& P( z > 1.04) \\\\  \n",
    "               &=& 1 - P( z <= 1.04) \\\\  \n",
    "               &=& 1 - 0.8508 \\\\  \n",
    "               &=& 0.1492\n",
    "\\end{eqnarray*}\n",
    "\n",
    "**Answer:** \\\n",
    "Probability that the final production differ from the exact production by more than 4.5 unit is **0.1492**"
   ]
  },
  {
   "cell_type": "markdown",
   "metadata": {},
   "source": [
    "<h3> Question 4. (5 Marks)</h3>\n",
    "\n",
    "A very successful car washing shop has roughly **2.4 million dollar** revenue every year. Since this is quite a large amount of money for a car washing shop, the **IRS (tax people)** wants to check whether this establishment is laundering money (sounds familiar?); however, due to the limited resources, they want to be **95% confident** in their decision; thus, they send an investigator to record the daily number of customers and record down how much that each customers have to pay on average for the service. The investigator came back and reported that there are roughly **2,000 customers for the month** and each one of them paying roughly **80 dollars on average** for the services with a **standard deviation of 30 dollars**. Given this information, what is the approximate probability that the car washing shop can achieve it current claimed revenue and what would be your conclusion here about the legitimacy of this car washing shop **(i.e whether they are laundering money or not)**?"
   ]
  },
  {
   "cell_type": "markdown",
   "metadata": {},
   "source": [
    "YOUR ANSWER HERE"
   ]
  },
  {
   "cell_type": "markdown",
   "metadata": {},
   "source": [
    "**Given:** \\\n",
    "Mean ($\\mu) : 80 $ \\\n",
    "Standard Deviation ($\\sigma) : 30 $ \\\n",
    "Confidence Interval ($\\alpha) : 0.05 $ \\\n",
    "Z($\\alpha$/2) = 1.96 \\\n",
    "Number of Customers (n) : 2000\n",
    "\n",
    "**Solution:** \n",
    "\n",
    "**Step 1:** \\\n",
    "For Large Samples, i.e for n = 100 \n",
    "\n",
    "\\begin{eqnarray*}\n",
    "   \\sigma^{'} &=& \\sigma(\\sqrt{n}) \\\\\n",
    "              &=& 30 \\cdot \\sqrt{2000} \\\\\n",
    "              &=& 0.6708           \n",
    "\\end{eqnarray*}\n",
    "\n",
    "**Step 2:** \\\n",
    "Now, 95% Confidence Interval is given by:\n",
    "\n",
    "\\begin{eqnarray*}\n",
    "   CI &=& ( \\mu - Z(\\alpha/2) \\cdot \\frac{\\sigma}{\\sqrt{n}}, \\mu + Z(\\alpha/2) \\cdot \\frac{\\sigma}{\\sqrt{n}} ) \\\\\n",
    "              &=&  ( 80 - 1.96 \\cdot \\frac{30}{\\sqrt{2000}}, 80 + 1.96 \\cdot \\frac{30}{\\sqrt{2000}} )\\\\\n",
    "              &=&  ( 80 - 1.3148, 80 + 1.3148 ) \\\\\n",
    "              &=&  ( 78.6852, 81.3148 ) \n",
    "\\end{eqnarray*}\n",
    "\n",
    "**Step 3:** \\\n",
    "Now, finding the maximum values of the company's revenue :\\\n",
    "**Maximum Income in a month :**\n",
    "\n",
    "\\begin{eqnarray*}\n",
    "   &=& (2000) \\cdot (81.3148) \\\\\n",
    "   &=& 162,629.8       \n",
    "\\end{eqnarray*}\n",
    "\n",
    "**Maximum Income in a year :**\n",
    "\n",
    "\\begin{eqnarray*}\n",
    "   &=& (12) \\cdot (162,629.8 ) \\\\\n",
    "   &=& 1,951,555.2      \n",
    "\\end{eqnarray*}\n",
    "\n",
    "**Conclusion:** \n",
    "* Thus, we can see that the minimum value charged by the shop is 78 Dollars.\n",
    "* Now, with an average of 80 Dollars and Standard Deviation of 30 Dollars, \n",
    "    * The Range that they should charge should be - Min : 50 Dollars, Max : 110 Dollars.\n",
    "* However, the minimum charged is around 78 Dollars.\n",
    "* Also :\n",
    "    * Reported Income : **1,951,555.2 Dollars**\n",
    "    * Actual Income : **2,400,000 Dollars**\n",
    "* Hence, we can conclude and say that the company is **laundering money**"
   ]
  },
  {
   "cell_type": "markdown",
   "metadata": {},
   "source": [
    "<h3> Question 5. (10 Marks)</h3>\n",
    "\n",
    "**<span style=\"color:red\">Note that this is a challenge question, only attempt if you are comfortable with your progress. You should not use consultations to ask about this question as the tutors will prioritize answering queries about other questions.</span>**\n",
    "\n",
    "Let $X \\sim Binom(n, p = 0.6)$. What would be the lowest value for $n$ such that $Pr(\\frac{X}{n} > \\frac{1}{4}) \\geq 0.99$"
   ]
  },
  {
   "cell_type": "markdown",
   "metadata": {},
   "source": [
    "YOUR ANSWER HERE"
   ]
  },
  {
   "cell_type": "markdown",
   "metadata": {},
   "source": [
    "**Solution:** \\\n",
    "Mean $ (\\mu) = p = 0.6 $ \\\n",
    "Variance $ (\\sigma^{2}) = npq = 0.24n $\n",
    "\n",
    "Hence,\n",
    "Standard Deviation $(\\sigma) = \\sqrt{0.24n} $\n",
    "\n",
    "**Proceeded by Normalisation Method:** \n",
    "\n",
    "\\begin{eqnarray*}\n",
    "   Pr(\\frac{X}{n} > \\frac{1}{4}) &>=& 0.99 \\\\\n",
    "   1 - Pr(\\frac{X}{n} < \\frac{1}{4}) &>=& 0.99 \\\\\n",
    "   1 - Pr(\\frac{z}{n} < \\frac{0.24 - \\mu}{\\sigma}) &>=& 0.99 \\\\\n",
    "   1 - Pr(\\frac{z}{n} < \\frac{0.24 - 0.6}{\\sqrt{0.24n})} &>=& 0.99 \\\\\n",
    "   1 - Pr(\\frac{z}{n} < \\frac{-0.35}{\\sqrt{0.24n})} &>=& 0.99 \\\\\n",
    "   Pr(\\frac{z}{n} < \\frac{-0.35}{\\sqrt{0.24n})} &>=& -0.01 \\\\\n",
    "   \\frac{-0.35}{\\sqrt{0.24n})} &>=& \\frac{-2.33}{n} \\\\\n",
    "   \\frac{0.35n}{2.33} &>=& \\sqrt{0.24n} \\\\\n",
    "   n &>=& 10.6 \\\\\n",
    "   n &\\approx& 11\n",
    "\\end{eqnarray*}\n",
    "\n",
    "\n",
    "**Hence, Lowest Value of n = 11**"
   ]
  },
  {
   "cell_type": "markdown",
   "metadata": {},
   "source": [
    "<h3> Question 6. (5 Marks)</h3>\n",
    "\n",
    "**<span style=\"color:red\"> Note that this is a challenge question, only attempt if you are comfortable with your progress. You should not use consultations to ask about this question as the tutors will prioritize answering queries about other questions.</span>**\n",
    "\n",
    "Let $X_{1}, X_{2}, \\ldots, X_{n}$ be a random sample from a Poisson distribution with mean\n",
    "$\\lambda .$ Thus, $Y=\\sum_{i=1}^{n} X_{i}$ has a Poisson distribution with mean $n \\lambda .$ Moreover, by the Central limit Theorem, $\\bar{X}=Y / n$ has, approximately, a Normal $(\\lambda, \\lambda / n)$ distribution for large $n$. Show that for large values of $n,$ the distribution of\n",
    "$$\n",
    "2 \\sqrt{n}\\left(\\sqrt{\\frac{Y}{n}}-\\sqrt{\\lambda}\\right)\n",
    "$$\n",
    "is independent of $\\lambda$."
   ]
  },
  {
   "cell_type": "markdown",
   "metadata": {},
   "source": [
    "**Given:** \\\n",
    "$X_{1}, X_{2}, \\ldots, X_{n}$ be a random sample from a Poisson distribution. \\\n",
    "Mean: $\\lambda $ \\\n",
    "$Y=\\sum_{i=1}^{n} X_{i}$ \\\n",
    "Mean : $n \\lambda $\n",
    "\n",
    "**To Prove:** \\\n",
    "Show that for large values of $n,$ the distribution of\n",
    "$$\n",
    "2 \\sqrt{n}\\left(\\sqrt{\\frac{Y}{n}}-\\sqrt{\\lambda}\\right)\n",
    "$$\n",
    "is independent of $\\lambda$.\n",
    "\n",
    "**Proof:**\n",
    "**Step 1:** \\\n",
    "Here, $\\bar{X}$ follows Normal $(\\lambda, \\lambda / n)$ distribution \\\n",
    "Hence,\n",
    "* Mean = $\\lambda$ \n",
    "* Variance = $\\frac{\\lambda}{n}$\n",
    "* Implies, Standard Deviation = $\\sqrt{\\sigma}$\n",
    "\n",
    "**Step 2:**  \n",
    "Using the Central Limit Theorem,\n",
    "Using Z Transformation on $\\bar{X}$, we get : \n",
    "\n",
    "\\begin{eqnarray*}\n",
    "    &=& \\frac{ \\bar{X} - \\mu  }{ \\sigma } \\\\\n",
    "    &=& \\frac{ \\bar{X} - \\lambda  }{ \\sqrt{\\frac{\\lambda}{n}} } \\\\\n",
    "    &=& \\frac{ \\frac{Y}{n} - \\lambda  }{ \\sqrt{\\frac{\\lambda}{n}} }\n",
    "\\end{eqnarray*}\n",
    "\n",
    "**Step 3:** \n",
    "* Using Weak Law of Large Numbers, \n",
    "* Now, For large values of n, Y/n tends to the mean value i.e $\\lambda$\n",
    "* Hence, $\\frac{Y}{n}$ follows a Normal Distribution with :\n",
    "    * Mean = 0\n",
    "    * Variance = 1\n",
    "\n",
    "**Step 4:**\n",
    "* Now, I have assumed the following -\n",
    "* Our Required Distribution, follows the same pattern as $\\bar{X}$\n",
    "* $2 \\sqrt{n}\\left(\\sqrt{\\frac{Y}{n}}-\\sqrt{\\lambda}\\right) \\approx \\frac{ \\frac{Y}{n} - \\lambda  }{ \\sqrt{\\frac{\\lambda}{n}} }$\n",
    "\n",
    "* Hence, For large values of n, $2 \\sqrt{n}\\left(\\sqrt{\\frac{Y}{n}}-\\sqrt{\\lambda}\\right)$ follows a Normal Distribution i.e Normal(0,1)\n",
    "* Hence, it would be **independent** of $\\lambda$"
   ]
  },
  {
   "cell_type": "markdown",
   "metadata": {},
   "source": [
    "<h2>Part 2 - Modelling and Data Analysis (20 Marks)</h2>\n",
    "\n",
    "__<span style=\"color:red\">No libraries should be used in this part</span>__"
   ]
  },
  {
   "cell_type": "markdown",
   "metadata": {},
   "source": [
    "\n",
    "This question will require you to analyse a regression dataset. In particular, you will be looking at predicting the fuel efficiency of a car (in kilometers per litre) based on characteristics of the car and its engine. This is clearly an important and useful problem. The dataset **fuel2017-20.csv** contains $n=2,000$ observations on $p=9$ predictors obtained from actual fuel efficiency tables for car models available for sale during the years 2017 through to 2020. The target is the fuel efficiency of the car measured in kilometers per litre. The higher this score, the better the fuel efficiency of the car. Provide working/R code/justifications for each of these questions as required."
   ]
  },
  {
   "cell_type": "markdown",
   "metadata": {},
   "source": [
    "<h3> Question 1 (4 Marks) </h3>\n",
    "\n",
    "Fit a multiple linear model to the fuel efficiency data using R. Using the results of fitting the linear model, which predictors do you think are possibly associated with fuel efficiency, and why? Which three variables appear to be the strongest predictors of fuel efficiency, and why? $[2 \\text { marks }]$"
   ]
  },
  {
   "cell_type": "code",
   "execution_count": 129,
   "metadata": {},
   "outputs": [
    {
     "data": {
      "text/plain": [
       "\n",
       "Call:\n",
       "lm(formula = Comb.FE ~ ., data = fuel)\n",
       "\n",
       "Residuals:\n",
       "    Min      1Q  Median      3Q     Max \n",
       "-4.2229 -0.9985 -0.0975  0.7149 11.4355 \n",
       "\n",
       "Coefficients:\n",
       "                           Estimate Std. Error t value Pr(>|t|)    \n",
       "(Intercept)              -2.003e+02  7.241e+01  -2.766  0.00573 ** \n",
       "Model.Year                1.074e-01  3.588e-02   2.993  0.00279 ** \n",
       "Eng.Displacement         -1.287e+00  8.674e-02 -14.832  < 2e-16 ***\n",
       "No.Cylinders              2.569e-03  5.767e-02   0.045  0.96447    \n",
       "AspirationOT             -2.471e-01  6.343e-01  -0.390  0.69692    \n",
       "AspirationSC             -1.015e+00  1.995e-01  -5.089 3.94e-07 ***\n",
       "AspirationTC             -1.268e+00  1.085e-01 -11.685  < 2e-16 ***\n",
       "AspirationTS             -1.183e+00  4.215e-01  -2.807  0.00506 ** \n",
       "No.Gears                 -1.745e-01  2.534e-02  -6.888 7.58e-12 ***\n",
       "Lockup.Torque.ConverterY -7.859e-01  9.506e-02  -8.267 2.48e-16 ***\n",
       "Drive.SysA               -3.829e-02  1.294e-01  -0.296  0.76725    \n",
       "Drive.SysF                1.512e+00  1.438e-01  10.511  < 2e-16 ***\n",
       "Drive.SysP               -4.435e-01  2.427e-01  -1.827  0.06781 .  \n",
       "Drive.SysR                9.319e-02  1.243e-01   0.750  0.45349    \n",
       "Max.Ethanol              -6.993e-03  2.490e-03  -2.808  0.00503 ** \n",
       "Fuel.TypeGM               5.696e-01  3.752e-01   1.518  0.12913    \n",
       "Fuel.TypeGP               5.024e-01  1.163e-01   4.321 1.63e-05 ***\n",
       "Fuel.TypeGPR              2.066e-01  1.199e-01   1.723  0.08500 .  \n",
       "---\n",
       "Signif. codes:  0 '***' 0.001 '**' 0.01 '*' 0.05 '.' 0.1 ' ' 1\n",
       "\n",
       "Residual standard error: 1.619 on 1982 degrees of freedom\n",
       "Multiple R-squared:  0.6639,\tAdjusted R-squared:  0.661 \n",
       "F-statistic: 230.3 on 17 and 1982 DF,  p-value: < 2.2e-16\n"
      ]
     },
     "metadata": {},
     "output_type": "display_data"
    }
   ],
   "source": [
    "# R Code\n",
    "\n",
    "# Reading in the data into the dataframe fuel \n",
    "fuel <- read.csv(\"fuel2017-20.csv\")\n",
    "#summary(fuel)\n",
    "\n",
    "# Our Target : Fuel Efficiency \n",
    "\n",
    "# Fitting in a multiple linear model\n",
    "# \"Comb.FE ∼ .” expression indicates all variables other than Comb.FE that will be used to predict Comb.FE\n",
    "fit <- lm(Comb.FE ~ ., fuel)\n",
    "\n",
    "# Details of the Linear Model\n",
    "summary(fit)"
   ]
  },
  {
   "cell_type": "markdown",
   "metadata": {},
   "source": [
    "**Predictors that are possibly associated with fuel efficiency, and why? :** \\\n",
    "Eng.Displacement \\\n",
    "AspirationSC \\\n",
    "AspirationTC \\\n",
    "No.Gears \\\n",
    "Lockup.Torque.ConverterY \\\n",
    "Drive.SysF \\\n",
    "Fuel.TypeGP \n",
    "\n",
    "**Reason:** \n",
    "* Looking at the p values, these predictors have their p the values less than 0.001. \n",
    "* Hence, these are most possibly associated with fuel efficiency.\n",
    "\n",
    "**Three variables appear to be the strongest predictors of fuel efficiency, and why? :** \\\n",
    "AspirationTC \\\n",
    "Drive.SysF \\\n",
    "Eng.Displacement \n",
    "\n",
    "**Reason:** \n",
    "* Looking at the p values of these predictors, these are the ones which have the least p values. \n",
    "* Hence, strongest predictors of fuel efficiency."
   ]
  },
  {
   "cell_type": "markdown",
   "metadata": {},
   "source": [
    "<h3> Question 2 (5 Marks) </h3>\n",
    "\n",
    "Describe what effect the year of manufacture (Model. Year) appears to have on the mean fuel efficiency. Describe the effect that the number of gears (No. Gears) variable has on the mean fuel efficiency of the car."
   ]
  },
  {
   "cell_type": "code",
   "execution_count": 130,
   "metadata": {},
   "outputs": [
    {
     "data": {
      "text/plain": [
       "\n",
       "Call:\n",
       "lm(formula = Comb.FE ~ Model.Year, data = fuel)\n",
       "\n",
       "Residuals:\n",
       "    Min      1Q  Median      3Q     Max \n",
       "-5.5695 -1.9177 -0.5266  1.2473 15.7159 \n",
       "\n",
       "Coefficients:\n",
       "             Estimate Std. Error t value Pr(>|t|)\n",
       "(Intercept) -59.40519  122.42170  -0.485    0.628\n",
       "Model.Year    0.03465    0.06066   0.571    0.568\n",
       "\n",
       "Residual standard error: 2.78 on 1998 degrees of freedom\n",
       "Multiple R-squared:  0.0001633,\tAdjusted R-squared:  -0.0003372 \n",
       "F-statistic: 0.3262 on 1 and 1998 DF,  p-value: 0.5679\n"
      ]
     },
     "metadata": {},
     "output_type": "display_data"
    }
   ],
   "source": [
    "# Effect of (Model.Year) on the mean fuel efficiency\n",
    "fit_1 <- lm(Comb.FE ~ Model.Year, fuel)\n",
    "\n",
    "# Details of the Linear Model \n",
    "summary(fit_1)"
   ]
  },
  {
   "cell_type": "markdown",
   "metadata": {},
   "source": [
    "**Effect of (Model.Year) on the mean fuel efficiency:** :\n",
    "* The p value of (Model.Year) is 0.5679\n",
    "* Here, Model.Year does have an impact on the Fuel Efficiency when compared to \n",
    "    * No.Cylinders\n",
    "    * AspirationOT\n",
    "    * AspirationSC\n",
    "    * Drive.SysA \n",
    "    * Drive.SysP\n",
    "    * Drive.SysR\n",
    "    * Fuel.TypeGM\n",
    "    * Fuel.TypeGPR\n",
    "* However, when you compare Model.Year with the following, it's impact is significantly lesser :\n",
    "    * Eng.Displacement\n",
    "    * AspirationSC \n",
    "    * AspirationTC\n",
    "    * No.Gears \n",
    "    * Lockup.Torque.ConverterY\n",
    "    * Drive.SysF\n",
    "    * Fuel.TypeGP \n",
    "* Also, by looking at the **Estimate Value**, we can see that (Model.Year) does has a very less effect on Fuel Efficiency.\n",
    "* Thus, Model.Year is **not that great a predictor** for the fuel efficiency.\n",
    "* There are many other predictors which have a better,significant and a greater impact on the Fuel Efficiency Values."
   ]
  },
  {
   "cell_type": "code",
   "execution_count": 131,
   "metadata": {},
   "outputs": [
    {
     "data": {
      "text/plain": [
       "\n",
       "Call:\n",
       "lm(formula = Comb.FE ~ No.Gears, data = fuel)\n",
       "\n",
       "Residuals:\n",
       "    Min      1Q  Median      3Q     Max \n",
       "-5.7465 -1.6772 -0.0824  1.4878 15.0521 \n",
       "\n",
       "Coefficients:\n",
       "            Estimate Std. Error t value Pr(>|t|)    \n",
       "(Intercept) 15.31544    0.23027   66.51   <2e-16 ***\n",
       "No.Gears    -0.69053    0.03216  -21.47   <2e-16 ***\n",
       "---\n",
       "Signif. codes:  0 '***' 0.001 '**' 0.01 '*' 0.05 '.' 0.1 ' ' 1\n",
       "\n",
       "Residual standard error: 2.506 on 1998 degrees of freedom\n",
       "Multiple R-squared:  0.1875,\tAdjusted R-squared:  0.1871 \n",
       "F-statistic: 461.1 on 1 and 1998 DF,  p-value: < 2.2e-16\n"
      ]
     },
     "metadata": {},
     "output_type": "display_data"
    }
   ],
   "source": [
    "# Effect of (No.Gears) on the mean fuel efficiency\n",
    "fit_2 <- lm(Comb.FE ~ No.Gears, fuel)\n",
    "\n",
    "# Details of the Linear Model \n",
    "summary(fit_2)"
   ]
  },
  {
   "cell_type": "markdown",
   "metadata": {},
   "source": [
    "**Effect of (No.Gears) on the mean fuel efficiency:** :\n",
    "* The p value of (No.Gears) is < 2.2e-16\n",
    "* It comes in the list of predictors which are most likely to be associated with Fuel Efficiency along with the following :\n",
    "   * Eng.Displacement \n",
    "   * AspirationSC \n",
    "   * AspirationTC \n",
    "   * No.Gears \n",
    "   * Lockup.Torque.ConverterY \n",
    "   * Drive.SysF \n",
    "   * Fuel.TypeGP \n",
    "* No.Gears does have a **good** impact while predicting the **Fuel Efficiency** when compared to most of the variables which are made available to us.\n",
    "* Also, when we look at the **estimate**, we cab observe that :\n",
    "    * Fuel Efficiency is **INVSERSELY** related to (No.Gears)"
   ]
  },
  {
   "cell_type": "markdown",
   "metadata": {},
   "source": [
    "<h3> Question 3 (3 Marks) </h3>\n",
    "\n",
    "Use the stepwise selection procedure with the BIC penalty to prune out potentially unimportant variables. Write down the final regression equation obtained after pruning."
   ]
  },
  {
   "cell_type": "code",
   "execution_count": 132,
   "metadata": {},
   "outputs": [
    {
     "data": {
      "text/plain": [
       "\n",
       "Call:\n",
       "glm(formula = Comb.FE ~ Model.Year + Eng.Displacement + Aspiration + \n",
       "    No.Gears + Lockup.Torque.Converter + Drive.Sys + Max.Ethanol, \n",
       "    family = gaussian, data = fuel)\n",
       "\n",
       "Deviance Residuals: \n",
       "    Min       1Q   Median       3Q      Max  \n",
       "-4.1799  -1.0033  -0.0835   0.6849  11.4237  \n",
       "\n",
       "Coefficients:\n",
       "                           Estimate Std. Error t value Pr(>|t|)    \n",
       "(Intercept)              -2.097e+02  7.261e+01  -2.887 0.003927 ** \n",
       "Model.Year                1.120e-01  3.598e-02   3.113 0.001881 ** \n",
       "Eng.Displacement         -1.253e+00  3.698e-02 -33.897  < 2e-16 ***\n",
       "AspirationOT             -1.014e-01  6.294e-01  -0.161 0.872034    \n",
       "AspirationSC             -7.208e-01  1.866e-01  -3.863 0.000116 ***\n",
       "AspirationTC             -1.093e+00  9.018e-02 -12.116  < 2e-16 ***\n",
       "AspirationTS             -1.100e+00  4.098e-01  -2.685 0.007309 ** \n",
       "No.Gears                 -1.606e-01  2.493e-02  -6.442 1.47e-10 ***\n",
       "Lockup.Torque.ConverterY -7.999e-01  9.341e-02  -8.563  < 2e-16 ***\n",
       "Drive.SysA                7.188e-02  1.242e-01   0.579 0.562843    \n",
       "Drive.SysF                1.545e+00  1.401e-01  11.027  < 2e-16 ***\n",
       "Drive.SysP               -5.454e-01  2.376e-01  -2.295 0.021813 *  \n",
       "Drive.SysR                1.689e-01  1.231e-01   1.372 0.170300    \n",
       "Max.Ethanol              -8.184e-03  2.460e-03  -3.327 0.000893 ***\n",
       "---\n",
       "Signif. codes:  0 '***' 0.001 '**' 0.01 '*' 0.05 '.' 0.1 ' ' 1\n",
       "\n",
       "(Dispersion parameter for gaussian family taken to be 2.641955)\n",
       "\n",
       "    Null deviance: 15447.9  on 1999  degrees of freedom\n",
       "Residual deviance:  5246.9  on 1986  degrees of freedom\n",
       "AIC: 7634.7\n",
       "\n",
       "Number of Fisher Scoring iterations: 2\n"
      ]
     },
     "metadata": {},
     "output_type": "display_data"
    }
   ],
   "source": [
    "# stepwise selection procedure \n",
    "# with the BIC penalty to prune out potentially unimportant variables\n",
    "\n",
    "fullmod <- glm(Comb.FE ~ . , data=fuel, family=gaussian)\n",
    "back.fit = step(fullmod, trace = 0, k = log(nrow(fuel)), direction = \"both\")\n",
    "\n",
    "# Details \n",
    "summary(back.fit)"
   ]
  },
  {
   "cell_type": "code",
   "execution_count": 133,
   "metadata": {},
   "outputs": [
    {
     "data": {
      "text/html": [
       "<style>\n",
       ".dl-inline {width: auto; margin:0; padding: 0}\n",
       ".dl-inline>dt, .dl-inline>dd {float: none; width: auto; display: inline-block}\n",
       ".dl-inline>dt::after {content: \":\\0020\"; padding-right: .5ex}\n",
       ".dl-inline>dt:not(:first-of-type) {padding-left: .5ex}\n",
       "</style><dl class=dl-inline><dt>(Intercept)</dt><dd>-209.657883335339</dd><dt>Model.Year</dt><dd>0.111995007976626</dd><dt>Eng.Displacement</dt><dd>-1.25348170242984</dd><dt>AspirationOT</dt><dd>-0.101401989270943</dd><dt>AspirationSC</dt><dd>-0.720841697007822</dd><dt>AspirationTC</dt><dd>-1.0926229099929</dd><dt>AspirationTS</dt><dd>-1.10036735799902</dd><dt>No.Gears</dt><dd>-0.160634635566795</dd><dt>Lockup.Torque.ConverterY</dt><dd>-0.799916434115236</dd><dt>Drive.SysA</dt><dd>0.0718813593093842</dd><dt>Drive.SysF</dt><dd>1.54476755878251</dd><dt>Drive.SysP</dt><dd>-0.545365788393033</dd><dt>Drive.SysR</dt><dd>0.168883804163226</dd><dt>Max.Ethanol</dt><dd>-0.00818396661069438</dd></dl>\n"
      ],
      "text/latex": [
       "\\begin{description*}\n",
       "\\item[(Intercept)] -209.657883335339\n",
       "\\item[Model.Year] 0.111995007976626\n",
       "\\item[Eng.Displacement] -1.25348170242984\n",
       "\\item[AspirationOT] -0.101401989270943\n",
       "\\item[AspirationSC] -0.720841697007822\n",
       "\\item[AspirationTC] -1.0926229099929\n",
       "\\item[AspirationTS] -1.10036735799902\n",
       "\\item[No.Gears] -0.160634635566795\n",
       "\\item[Lockup.Torque.ConverterY] -0.799916434115236\n",
       "\\item[Drive.SysA] 0.0718813593093842\n",
       "\\item[Drive.SysF] 1.54476755878251\n",
       "\\item[Drive.SysP] -0.545365788393033\n",
       "\\item[Drive.SysR] 0.168883804163226\n",
       "\\item[Max.Ethanol] -0.00818396661069438\n",
       "\\end{description*}\n"
      ],
      "text/markdown": [
       "(Intercept)\n",
       ":   -209.657883335339Model.Year\n",
       ":   0.111995007976626Eng.Displacement\n",
       ":   -1.25348170242984AspirationOT\n",
       ":   -0.101401989270943AspirationSC\n",
       ":   -0.720841697007822AspirationTC\n",
       ":   -1.0926229099929AspirationTS\n",
       ":   -1.10036735799902No.Gears\n",
       ":   -0.160634635566795Lockup.Torque.ConverterY\n",
       ":   -0.799916434115236Drive.SysA\n",
       ":   0.0718813593093842Drive.SysF\n",
       ":   1.54476755878251Drive.SysP\n",
       ":   -0.545365788393033Drive.SysR\n",
       ":   0.168883804163226Max.Ethanol\n",
       ":   -0.00818396661069438\n",
       "\n"
      ],
      "text/plain": [
       "             (Intercept)               Model.Year         Eng.Displacement \n",
       "           -2.096579e+02             1.119950e-01            -1.253482e+00 \n",
       "            AspirationOT             AspirationSC             AspirationTC \n",
       "           -1.014020e-01            -7.208417e-01            -1.092623e+00 \n",
       "            AspirationTS                 No.Gears Lockup.Torque.ConverterY \n",
       "           -1.100367e+00            -1.606346e-01            -7.999164e-01 \n",
       "              Drive.SysA               Drive.SysF               Drive.SysP \n",
       "            7.188136e-02             1.544768e+00            -5.453658e-01 \n",
       "              Drive.SysR              Max.Ethanol \n",
       "            1.688838e-01            -8.183967e-03 "
      ]
     },
     "metadata": {},
     "output_type": "display_data"
    }
   ],
   "source": [
    "# final regression equation obtained after pruning\n",
    "\n",
    "# Obtaining the coefficients for the Regression Equation\n",
    "back.fit$coefficients"
   ]
  },
  {
   "cell_type": "markdown",
   "metadata": {},
   "source": [
    "**Final Regression Equation:** \n",
    "\n",
    "Comb.FE = \\\n",
    "-209.66 + 0.11(**Model.Year**) -1.25(**Eng.Displacement**) - 0.101(**AspirationOT**) \\\n",
    "\\\n",
    "-0.72(**AspirationSC**) -1.09(**AspirationTC**) -1.1(**AspirationTS**) - 0.16*(**No.Gears**) \\\n",
    "\\\n",
    "-0.79(**Lockup.Torque.ConverterY**) + 0.07(**Drive.SysA**) + 1.54(**Drive.SysF**) - 0.54(**Drive.SysP**) \\\n",
    "\\\n",
    "+0.16(**Drive.SysR**) - 0.008(**Max.Ethanol**)"
   ]
  },
  {
   "cell_type": "markdown",
   "metadata": {},
   "source": [
    "<h3> Question 4 (4 Marks) </h3>\n",
    "\n",
    "If we wanted to improve the fuel efficiency of our car, what does this BIC model suggest we could do?"
   ]
  },
  {
   "cell_type": "markdown",
   "metadata": {},
   "source": [
    "**In order to improve the fuel efficiency of our car, this BIC model suggests the following:**\n",
    "* As per the BIC Model,\n",
    "    * Following can be **\"INCREASED\" :** \n",
    "        * Drive.SysA, Drive.SysF, Drive.SysR, Model.Year, Drive.SysF\n",
    "        \n",
    "        * From the above information on p values, \n",
    "            * We can see that **Drive.SysF** has the most impact on Fuel Efficiency  \n",
    "            * As it has the least p value among these four\n",
    "          \n",
    "    * Following can be **\"DECREASED\"** :\n",
    "        * Max.Ethanol, Eng.Displacement, AspirationOT, AspirationTS, AspirationSC, Lockup.Torque.ConverterY, Drive.SysP, AspirationTC, No.Gears\n",
    "      \n",
    "        * From the above information on p values, \n",
    "            * We can see that **No.Gears** has the most impact on Fuel Efficiency  \n",
    "            * As it has the least p value among these values\n",
    "     * Variables which **DO NOT** have **ANY IMPACT** :\n",
    "         * Fuel.GDR\n",
    "         * No.Cylinders\n",
    "         * Fuel.TypeGM\n",
    "         * Fuel.TypeGP\n",
    "\n",
    "**In Conclusion:** \\\n",
    "**In order to INCREASE the value of Fuel Efficiency in the most EFFECTIVE manner :** \\\n",
    "    **INCREASE** the value of **Drive.SysF** \\\n",
    "    **DECREASE** the value of **No.Gears** \\\n",
    "    \n",
    "**BIC Model:**\n",
    "* This model has dropped 4 variables.\n",
    "* Hence, the resulting model is a bit more **less complex**\n",
    "* Reason :\n",
    "    * To **PREDICT** the fuel efficiency of the car\n",
    "    * We now need **ONLY** 13 variables  \n",
    "* Thus, this model is better at predicting the **Fuel Efficieny**. "
   ]
  },
  {
   "cell_type": "markdown",
   "metadata": {},
   "source": [
    "<h3> Question 5 (4 Marks) </h3>\n",
    "\n",
    "Imagine that you are looking for a new car to buy to replace your existing car. Load the dataset **fuel2017-20.test.csv**. The characteristics of the new car that you are looking at are given by the first row of this dataset.\n",
    "    \n",
    "    (a) Use your BIC model to predict the mean fuel efficiency for this new car. Provide a 95% confidence interval for this prediction. [ 2 mark]\n",
    "    (b) The current car that you own has a mean fuel efficiency of 8.5 km/l (measured over the life time of your ownership). Does your model suggest that the new car will have better fuel efficiency than your current car? [2 mark]"
   ]
  },
  {
   "cell_type": "code",
   "execution_count": 134,
   "metadata": {},
   "outputs": [
    {
     "data": {
      "text/html": [
       "<strong>1:</strong> 8.46753367714036"
      ],
      "text/latex": [
       "\\textbf{1:} 8.46753367714036"
      ],
      "text/markdown": [
       "**1:** 8.46753367714036"
      ],
      "text/plain": [
       "       1 \n",
       "8.467534 "
      ]
     },
     "metadata": {},
     "output_type": "display_data"
    }
   ],
   "source": [
    "# Loading the data\n",
    "fuel_test <- read.csv(\"fuel2017-20.test.csv\")\n",
    "\n",
    "# Characteristics of the new car that you are looking at are given by the first row of this dataset\n",
    "row1 = head(fuel_test,1)\n",
    "#row1\n",
    "\n",
    "# BIC model to predict the mean fuel efficiency for this new car\n",
    "fit <- lm(Comb.FE ~ ., fuel)\n",
    "pred_1 = predict(back.fit, row1, interval = \"confidence\")\n",
    "pred_1"
   ]
  },
  {
   "cell_type": "markdown",
   "metadata": {},
   "source": [
    "**a) Predicted Mean with the BIC Model :** 8.467 km/l"
   ]
  },
  {
   "cell_type": "markdown",
   "metadata": {},
   "source": [
    "**b) According to my model,** \n",
    "* Fuel Efficiency of the current car : 8.5 km/l\n",
    "* Predicted Fuel Efficiency of the new car : 8.46 km/l\n",
    "* Thus, The new car **will/will not** have better **Fuel Efficiency** than my current car."
   ]
  },
  {
   "cell_type": "markdown",
   "metadata": {},
   "source": [
    "<h2>Part 3 - Simulation (25 Marks)</h2>\n",
    "\n",
    "__<span style=\"color:red\">No libraries should be used in this part</span>__\n",
    "\n",
    "This part of the assignment will deal with **Rejection Sampling & Inverse Sampling**."
   ]
  },
  {
   "cell_type": "markdown",
   "metadata": {},
   "source": [
    "<h3>Question 1 - Inverse Sampling (10 Marks)</h3>\n",
    "\n",
    "Given the following distribution:\n",
    "$$\n",
    "\\operatorname{PDF(x)} = e^{-x^2\\pi} \\text{ for x } [-\\infty, +\\infty]\n",
    "$$"
   ]
  },
  {
   "cell_type": "markdown",
   "metadata": {},
   "source": [
    "<h4>Question 1.a (4 Marks)</h4>\n",
    "\n",
    "Perform the Inverse Sampling Process as you have learnt from the tutorial and lecture"
   ]
  },
  {
   "cell_type": "markdown",
   "metadata": {},
   "source": [
    "**Step 1 :** \\\n",
    "**Calculating the CDF from PDF :**\n",
    "\n",
    "\\begin{eqnarray*}\n",
    "   CDF(x) &=& \\int_{-\\infty}^x{ f(t) \\cdot dt} \\\\ \n",
    "      &=& \\int_{-\\infty}^x{ e^{-x^{2}\\pi} \\cdot dt} \\\\\n",
    "\\end{eqnarray*}\n",
    "where $ -\\infty < x < \\infty $ \n",
    "\n",
    "**Solving the above equation, we get :**\n",
    "\\begin{eqnarray*}\n",
    "   CDF(x) &=& \\frac{1 + erf(\\sqrt{\\pi} \\cdot x)}{2} \n",
    "\\end{eqnarray*}\n",
    "where $ x >= 0 $ \n",
    "\n",
    "\\begin{eqnarray*}\n",
    "   CDF(x) &=& \\frac{1 + erfc(\\sqrt{\\pi} \\cdot x)}{2} \\\\\n",
    "          &=& \\frac{1 + 1 - erf(\\sqrt{\\pi} \\cdot x)}{2} \\\\\n",
    "          &=& \\frac{2 - erf(\\sqrt{\\pi} \\cdot x)}{2}\n",
    "\\end{eqnarray*}\n",
    "where $ x < 0 $ \n",
    "\n",
    "**Step 2:** \\\n",
    "Generating the Quantile Function from CDF: \\\n",
    "We know that Quantile Function is nothing but inverse PDF. \\\n",
    "**Part a : where $ x >= 0 $** \n",
    "\n",
    "\\begin{eqnarray*}\n",
    "    CDF(x) &=& y \\\\\n",
    "    y &=& \\frac{1 + erf(\\sqrt{\\pi} \\cdot x)}{2} \\\\ \n",
    "    2y - 1 &=& erf(\\sqrt{\\pi} \\cdot x) \\\\\n",
    "    erf^{-1}(2y - 1) &=& \\sqrt{\\pi} \\cdot x \\\\\n",
    "    F^{-1}(y)  &=& \\frac{erf^{-1}(2y - 1)}{\\sqrt{\\pi} } \n",
    "\\end{eqnarray*}\n",
    "\n",
    "**Part b : where $ x < 0 $**  \n",
    "\n",
    "\\begin{eqnarray*}\n",
    "    CDF(x) &=& y \\\\\n",
    "    y &=&  \\frac{2 - erf(\\sqrt{\\pi} \\cdot x)}{2} \\\\ \n",
    "    2 - 2y &=& erf(\\sqrt{\\pi} \\cdot x) \\\\\n",
    "    erf^{-1}(2 - 2y) &=& \\sqrt{\\pi} \\cdot x \\\\\n",
    "    F^{-1}(y)  &=& \\frac{erf^{-1}(2 - 2y)}{\\sqrt{\\pi} } \n",
    "\\end{eqnarray*}"
   ]
  },
  {
   "cell_type": "markdown",
   "metadata": {},
   "source": [
    "<h4>Question 1.b (3 Marks)</h4>\n",
    "\n",
    "Write the code for this inverse sampling process based on the result you obtain from the previous part. ie. You should write a function that take in a vector of number and return the corresponding samples for these inputs. The better your function is (errors handling, comments, variable names, etc) the higher the score you will get for this particular part.\n",
    "\n",
    "The vector of number that you should use to test your function will be provided below, please kindly print the result obtained from your function in your answer (if you don't print the final result to the terminal, you automatically lose half the mark)"
   ]
  },
  {
   "cell_type": "code",
   "execution_count": 40,
   "metadata": {
    "scrolled": true
   },
   "outputs": [],
   "source": [
    "# Code for Inverse Sampling Process\n",
    "\n",
    "# Defining the Inverse of our Error Function\n",
    "# As these functions are not available in r,\n",
    "# I have created these functions which are closer to the error function\n",
    "\n",
    "erf_inverse <- function(x1) qnorm((x1 + 1)/2)/sqrt(2)\n",
    "erfc_inverse <- function(x2) qnorm(x2/2,lower = FALSE )/sqrt(2)"
   ]
  },
  {
   "cell_type": "code",
   "execution_count": 32,
   "metadata": {},
   "outputs": [
    {
     "name": "stdout",
     "output_type": "stream",
     "text": [
      " [1] 0.26550866 0.57285336 0.20168193 0.94467527 0.62911404 0.20597457\n",
      " [7] 0.68702285 0.76984142 0.71761851 0.38003518 0.93470523 0.65167376\n",
      "[13] 0.26722067 0.01339034 0.86969085 0.48208011 0.49354130 0.82737332\n",
      "[19] 0.79423986 0.72371094 0.82094630 0.78293276 0.52971958 0.02333120\n",
      "[25] 0.73231374 0.47761962 0.43809711 0.07067905 0.31627170 0.66200508\n"
     ]
    }
   ],
   "source": [
    "# Please use this vector to test your function\n",
    "v <- c(0.265508661956518, 0.572853363366483, 0.201681933540029, 0.944675271666033, 0.629114039702611, 0.205974572722292, 0.687022845328627, 0.769841421378398, 0.717618510066763, 0.380035182665625, 0.934705229194034, 0.651673764925861, 0.267220671371476, 0.0133903353094157, 0.8696908454623, 0.482080113884552, 0.493541301684213, 0.827373323354622, 0.794239857106981, 0.723710942352373, 0.820946295910032, 0.782932762451741, 0.529719582120748, 0.0233311986716842, 0.732313742434469, 0.477619624593925, 0.43809710625408, 0.0706790469547075, 0.316271703829127, 0.662005077353345)\n",
    "print(v)"
   ]
  },
  {
   "cell_type": "code",
   "execution_count": 26,
   "metadata": {},
   "outputs": [
    {
     "name": "stdout",
     "output_type": "stream",
     "text": [
      " [1] -0.24991891  0.07326309 -0.33336758  0.63642496  0.13145458 -0.32731953\n",
      " [7]  0.19445606  0.29454894  0.22970353 -0.12183234  0.60311343  0.15552495\n",
      "[13] -0.24783913 -0.88353742  0.44878251 -0.01792592 -0.00645898  0.37653617\n",
      "[19]  0.32761986  0.23693235  0.36661893  0.31202724  0.02974712 -0.79363650\n",
      "[25]  0.24727470 -0.02239213 -0.06215341 -0.58674531 -0.19075427  0.16673456\n"
     ]
    }
   ],
   "source": [
    "# Creating our Required Inverse Function\n",
    "inverse_function <- function(y) {\n",
    "    erf_inverse( (2*y) - 1 )/ sqrt(pi)\n",
    "    }\n",
    "      \n",
    "# Function to take in our vector and return the samples\n",
    "samples = inverse_function(v)\n",
    "\n",
    "# Printing the samples \n",
    "print(samples)"
   ]
  },
  {
   "cell_type": "markdown",
   "metadata": {},
   "source": [
    "<h4> Question 1.c (3 Marks)</h4>\n",
    "\n",
    "Please provide 100 sample for this distribution using all the answers you have completed so far. Please set your random number seed to 1 (<span style=\"color:red\">**You should not ask your tutor what setting random number means, if you don't know what this means, go back and read materials from your tutorials**</span>)"
   ]
  },
  {
   "cell_type": "markdown",
   "metadata": {},
   "source": [
    "YOUR ANSWER HERE"
   ]
  },
  {
   "cell_type": "code",
   "execution_count": 128,
   "metadata": {},
   "outputs": [
    {
     "name": "stdout",
     "output_type": "stream",
     "text": [
      "  [1] -0.249918910 -0.130148283  0.073263087  0.530513149 -0.333367588\n",
      "  [6]  0.507625846  0.636424950  0.165417997  0.131454586 -0.614351166\n",
      " [11] -0.327319525 -0.370444656  0.194456059 -0.117576450  0.294548940\n",
      " [16] -0.002300771  0.229703523  0.959317914 -0.121832343  0.304629710\n",
      " [21]  0.603113433 -0.318758576  0.155524951 -0.457848898 -0.247839137\n",
      " [26] -0.115478458 -0.883537448 -0.119369562  0.448782506 -0.164169073\n",
      " [31] -0.017925915  0.100622601 -0.006458975 -0.355825053  0.376536163\n",
      " [36]  0.173812489  0.327619861 -0.493706408  0.236932352 -0.089469944\n",
      " [41]  0.366618926  0.150559074  0.312027239  0.053193510  0.029747123\n",
      " [46]  0.320825197 -0.793636476 -0.022782312  0.247274693  0.200910514\n",
      " [51] -0.022392130  0.433159304 -0.062153414 -0.275650698 -0.586745309\n",
      " [56] -0.512481000 -0.190754270  0.018641044  0.166734558 -0.094033315\n",
      " [61]  0.542034722 -0.216581077 -0.041006367 -0.172865804  0.154658597\n",
      " [66] -0.259101703 -0.021465104  0.289931601 -0.549367288  0.459546300\n",
      " [71] -0.165558881  0.395814722 -0.157298934 -0.171350936 -0.023662622\n",
      " [76]  0.494011857  0.438846638 -0.111443045  0.304463065  0.701301854\n",
      " [81] -0.065635420  0.223705324 -0.101076686 -0.180634672  0.278048165\n",
      " [86] -0.331937247  0.222076492 -0.465394316 -0.274773763 -0.425109136\n",
      " [91] -0.282249726 -0.623858788  0.145447159  0.461391508  0.306600273\n",
      " [96]  0.331938775 -0.044819651 -0.090691027  0.351511127  0.106173447\n"
     ]
    }
   ],
   "source": [
    "# Setting the seed pf the random number generator to 1\n",
    "set.seed(1)\n",
    "\n",
    "# Generating 100 Samples \n",
    "X = runif(100)\n",
    "\n",
    "# Presenting the 100 Samples to our Inverse Function\n",
    "new_sample = inverse_function(X) \n",
    "\n",
    "print(new_sample)"
   ]
  },
  {
   "cell_type": "markdown",
   "metadata": {},
   "source": [
    "<h3>Question 2 - Rejection Sampling (15 Marks)</h3>\n",
    "\n",
    "Using the same distribution as the previous question:\n",
    "\n",
    "$$\n",
    "\\operatorname{PDF(x)} = e^{-x^2\\pi} \\text{ for x } [-\\infty, +\\infty]\n",
    "$$\n",
    "\n",
    "please complete these following questions:"
   ]
  },
  {
   "cell_type": "markdown",
   "metadata": {},
   "source": [
    "YOUR ANSWER HERE"
   ]
  },
  {
   "cell_type": "markdown",
   "metadata": {},
   "source": [
    "<h4> Question 2.a (3 Marks) </h4>\n",
    "\n",
    "In Rejection Sampling, you would sample from the proposal within a certain range. Your task here includes finding an appropriate range to sample from for the proposal distribution. Giving the range without proper explanation receives 0 mark."
   ]
  },
  {
   "cell_type": "markdown",
   "metadata": {},
   "source": [
    "**Proposal Distribution:** \n",
    "* Here, the proposal distribution is **Uniform Distribution.**\n",
    "* It completely overlaps the **Target Distribution.**\n",
    "* Reason :\n",
    "    * Here, maximum value of the Target Distribution is 1, at x = 0.\n",
    "    * Hence, all the values of the Target Distribution fall under the Proposal Distribution.\n",
    "* Also, the constant with which the Proposal Distribution needs to be multiplied is 1 as all samples of the Target Distribution lie under the Proposal Distribution.\n",
    "\n",
    "**Range:**\n",
    "* Clearly, the **appropriate range** to sample from would be from [-1,1] "
   ]
  },
  {
   "cell_type": "markdown",
   "metadata": {},
   "source": [
    "<h4> Question 2.b (3 Marks) </h4>\n",
    "\n",
    "Please write down rejection sampling process for this distribution here, let's say that the range is $[-2, 2]$ for the proposal distribution. (if you think using this answer for the previous part is a good idea, it is not)"
   ]
  },
  {
   "cell_type": "markdown",
   "metadata": {},
   "source": [
    "YOUR ANSWER HERE"
   ]
  },
  {
   "cell_type": "markdown",
   "metadata": {},
   "source": [
    "**Writing Down the Rejection Sampling Process:**\n",
    "\n",
    "**Step 1:**\n",
    "* Here, we first plot our Target Distribution.\n",
    "* Hence, we plot this - \n",
    "$$\n",
    "\\operatorname{PDF(x)} = e^{-x^2\\pi} \\text{ for x } [-\\infty, +\\infty]\n",
    "$$ \n",
    "\n",
    "**Step 2:**\n",
    "* We then, plot our **Proposal Distribition** Function.\n",
    "* Here, the Proposal Distribution Function taken as the **Uniform Distribution** Funtion.\n",
    "\n",
    "**Step 3:**\n",
    "* We now check if our Proposal Distribution completely overlaps all values of Target Distribution.\n",
    "* Clearly, our Proposal Distribution, clearly encompasses all values  of the Target Distribution.\n",
    "* Hence, it is **sufficient** and we do not need to multiply it by a constant.\n",
    "\n",
    "**Step 4:**\n",
    "* We now generate random variables that lie in the Uniform Distriution : U(0,1)\n",
    "\n",
    "**Step 5:**\n",
    "* We then compare the following :\n",
    "* We **ACCEPT** the sample $ x_i $ if \n",
    "    * $$ \\frac{PDF(x_i)}{X(x_i)} >= U_i $$ \n",
    "* Else, we **REJECT** the sample.\n",
    "\n",
    "**Step 6:**\n",
    "* Finally, to check if the Rejection Sampling is correct, \n",
    "* we check if the **ACCEPTED** Samples follow the Target Distribution or not. "
   ]
  },
  {
   "cell_type": "markdown",
   "metadata": {},
   "source": [
    "<h4> Question 2.c (4 Marks) </h4>\n",
    "\n",
    "What would be the acceptance and rejection percentage here?"
   ]
  },
  {
   "cell_type": "markdown",
   "metadata": {},
   "source": [
    "YOUR ANSWER HERE"
   ]
  },
  {
   "cell_type": "markdown",
   "metadata": {},
   "source": [
    "**Now, we need to satisfy the following:-** \n",
    "* Proposed Distribution is the Uniform Distribution = g(X) = 1 \n",
    "* We now need to find a C that satisfies - $$ \\text{ for x } [-2, +2] $$\n",
    "\n",
    "**Hence, we can write the following:**\n",
    "\\begin{eqnarray*}\n",
    "   C \\cdot f(x) &<=& g(x) \\\\ \n",
    "   C \\cdot f(x) &<=& 1 \\\\\n",
    "   C  &<=& \\frac{1}{\\hat{f}}\n",
    "\\end{eqnarray*}\n",
    "where $\\hat{f}$ is any upper bound on f(x) $\\text{ for x } [-2, +2]  $ \n",
    "\n",
    "* Here, **maximum value** of f(x) = 1 at x=0\n",
    "* Hence, an appropriate value of the Constant would be 3\n",
    "\n",
    "**Proportion of Samples Accepted** : C = 1/3 \\\n",
    "**Proportion of Samples Rejected** : 1 - C = 2/3\n",
    "\n",
    "**Hence,** \\\n",
    "**Acceptance percentage :** 33.33 % \\\n",
    "**Rejection percentage :** 66.66 %"
   ]
  },
  {
   "cell_type": "markdown",
   "metadata": {},
   "source": [
    "<h4> Question 2.d (5 Marks) </h4>\n",
    "\n",
    "<span style=\"color:red\">**Note that this is a challenge question, only attempt if you are comfortable with your progress. You should not use consultations to ask about this question as the tutors will prioritize answering queries about other questions.**\n",
    " </span>\n",
    "\n",
    "Prove that your acceptance/rejection percentage is correct (i.e simulate it) using your own function; furthermore, also provide a graphical display of your final results. The better the display (including interactive, better graphic, etc), the higher the mark you will get for this question."
   ]
  },
  {
   "cell_type": "markdown",
   "metadata": {},
   "source": [
    "YOUR ANSWER HERE"
   ]
  },
  {
   "cell_type": "code",
   "execution_count": 116,
   "metadata": {},
   "outputs": [],
   "source": [
    "# Checking the above percentages through Simulation\n",
    "\n",
    "# Considering 10000 Samples\n",
    "\n",
    "# Proposal Distribution X\n",
    "# Here, the Proposal Distribution chosen is the Uniform Distribution\n",
    "\n",
    "# Range : [-2,2]\n",
    "X = runif(10000, -2, 2)\n",
    "\n",
    "# Uniform Distribution U\n",
    "U = runif(10000, 0, 1)\n",
    "\n",
    "# Creating a function for calculating PDF\n",
    "pdf_of_x <- function(x) exp(-x^(2)*pi)\n",
    "\n",
    "# Array for storing all the Accepted variables\n",
    "accept = c()\n",
    "# Array for storing all the Rejected variables\n",
    "reject = c()\n",
    "\n",
    "for(count in 1:length(X)){\n",
    "    \n",
    "    # Generating random variables from the Uniform Distribution \n",
    "    test_u = U[count]\n",
    "    \n",
    "    # Calculating the PDF of the Random Variables generated \n",
    "    # From the Proposal Distribution\n",
    "    test_x = pdf_of_x( X[count] )\n",
    "    \n",
    "    # Final Ratio for testing \n",
    "    ratio = test_x/test_u\n",
    "    \n",
    "    # If Ui <= PDF(Xi)/X(xi), we accept the sample\n",
    "    if (U[count] <= ratio){\n",
    "        # Store it in the accept vector \n",
    "        accept = rbind(accept, X[count])\n",
    "        count = count + 1\n",
    "    }\n",
    "    else {\n",
    "        # Store it in the reject vector \n",
    "        reject = rbind(reject, X[count])\n",
    "        count = count + 1\n",
    "    }\n",
    "    \n",
    "    }"
   ]
  },
  {
   "cell_type": "code",
   "execution_count": 117,
   "metadata": {},
   "outputs": [
    {
     "name": "stdout",
     "output_type": "stream",
     "text": [
      " \n",
      " Values from Simulation: \n",
      " Acceptance Percentage : 35.5 %\n",
      " Rejection Percentage : 64.5 %"
     ]
    }
   ],
   "source": [
    "acceptance_percentage = (length(accept)/10000)*100\n",
    "rejection_percentage = (length(reject)/10000)*100\n",
    "\n",
    "cat(\" \\n Values from Simulation:\")\n",
    "cat( \" \\n Acceptance Percentage :\", \n",
    "        round( acceptance_percentage, digits = 2), \"%\" )\n",
    "cat( \"\\n Rejection Percentage :\", \n",
    "        round( rejection_percentage, digits = 2), \"%\" )"
   ]
  },
  {
   "cell_type": "markdown",
   "metadata": {},
   "source": [
    "* In every simulation, the count value keeps on changing. \n",
    "* This is because the number of samples **REJECTED** in every simulation are different are slightly different.\n",
    "\n",
    "* However, roughly -\n",
    "    * Acceptance Percentage is around - 33% \n",
    "    * Rejection Percentage is around - 66%\n",
    "\n",
    "**Thus, our CALCULATED VALUES match our SIMULATED VALUES**"
   ]
  },
  {
   "cell_type": "code",
   "execution_count": 108,
   "metadata": {},
   "outputs": [
    {
     "name": "stdout",
     "output_type": "stream",
     "text": [
      "\n",
      " Options for Display :\n",
      " 1) Accepted and Rejected Values \n",
      " 2) PDF along with the Accepted Values\n",
      " 3) PDF along with the Rejected Values\n",
      " Enter Your Choice:1\n"
     ]
    },
    {
     "data": {
      "image/png": "[encoded data removed]",
      "text/plain": [
       "Plot with title \"PDF of x\""
      ]
     },
     "metadata": {
      "image/png": {
       "height": 420,
       "width": 1500
      },
      "text/plain": {
       "height": 420,
       "width": 1500
      }
     },
     "output_type": "display_data"
    },
    {
     "data": {
      "image/png": "[encoded data removed]",
      "text/plain": [
       "Plot with title \"ACCEPTED SAMPLES\""
      ]
     },
     "metadata": {
      "image/png": {
       "height": 420,
       "width": 1500
      },
      "text/plain": {
       "height": 420,
       "width": 1500
      }
     },
     "output_type": "display_data"
    },
    {
     "data": {
      "image/png": "[encoded data removed]",
      "text/plain": [
       "Plot with title \"REJECTED SAMPLES\""
      ]
     },
     "metadata": {
      "image/png": {
       "height": 420,
       "width": 1500
      },
      "text/plain": {
       "height": 420,
       "width": 1500
      }
     },
     "output_type": "display_data"
    }
   ],
   "source": [
    "# Now, these are the Results for PDF in the interval : [-2,2]\n",
    "# Making the Process Interactive \n",
    "\n",
    "cat(\"\\n Options for Display :\")\n",
    "cat(\"\\n 1) Accepted and Rejected Values \")\n",
    "cat(\"\\n 2) PDF along with the Accepted Values\")\n",
    "cat(\"\\n 3) PDF along with the Rejected Values\")\n",
    "\n",
    "user_choice = readline(prompt = \"\\n Enter Your Choice:\")\n",
    "\n",
    "# Plotting our Target Distribution \n",
    "x <- seq(-2, 2, by = 0.1)\n",
    "plot(x,\n",
    "    exp(-x^(2)*pi),\n",
    "    cex.main = 2.5, \n",
    "    cex.lab = 2, \n",
    "    cex.axis = 2, \n",
    "    cex.sub = 1,\n",
    "    col = \"black\",\n",
    "    main = sprintf(\"PDF of x\"),\n",
    "    typ = \"l\") \n",
    "\n",
    "if (user_choice == 1) { \n",
    "    # Plotting the Accepted Values  \n",
    "    h = hist(\n",
    "            accept,  \n",
    "            cex.main = 2.5, \n",
    "            cex.lab = 2, \n",
    "            cex.axis = 2, \n",
    "            cex.sub = 1,\n",
    "            xlab = \"Accepted Samples\",\n",
    "            breaks = (bins = 40),\n",
    "            col = 'skyblue',\n",
    "            freq = FALSE,\n",
    "            main=sprintf(\"ACCEPTED SAMPLES\"))    \n",
    "    # Plotting the Rejected Values \n",
    "    h = hist(\n",
    "            reject, \n",
    "            cex.main = 2.5, \n",
    "            cex.lab = 2, \n",
    "            cex.axis = 2, \n",
    "            cex.sub = 1,\n",
    "            xlab = \"Rejected Samples\",\n",
    "            breaks = (bins = 40),\n",
    "            col = 'red',\n",
    "            freq = FALSE,\n",
    "            main=sprintf(\"REJECTED SAMPLES\"))\n",
    "}\n",
    "\n",
    "if (user_choice == 2) {    \n",
    "    # Plotting the Accepted Values\n",
    "    h = hist(\n",
    "            accept,\n",
    "            cex.main = 2.5, \n",
    "            cex.lab = 2, \n",
    "            cex.axis = 2, \n",
    "            cex.sub = 1,\n",
    "            xlab = \"Accepted Samples\",\n",
    "            breaks = (bins = 40),\n",
    "            col = 'skyblue',\n",
    "            freq = FALSE,\n",
    "            main=sprintf(\"ACCEPTED SAMPLES\") )      \n",
    "}\n",
    "\n",
    "if (user_choice == 3) {    \n",
    "    # Plotting the Rejected Values \n",
    "    h = hist(\n",
    "            reject, \n",
    "            cex.main = 2.5, \n",
    "            cex.lab = 2, \n",
    "            cex.axis = 2, \n",
    "            cex.sub = 1,\n",
    "            xlab = \"Rejected Samples\",\n",
    "            breaks = (bins = 40),\n",
    "            col = 'red',\n",
    "            freq = FALSE,\n",
    "            main=sprintf(\"REJECTED SAMPLES\"))\n",
    "}"
   ]
  },
  {
   "cell_type": "markdown",
   "metadata": {},
   "source": [
    "**Proof that my Acceptance/Rejection percentage is correct:** \\\n",
    "**Correctness from the graph:**\n",
    "* From my histogram of values from the Accept Vector, we can clearly see that :\n",
    "    * It looks similar to the PDF.\n",
    "    * It follows the Target Distribution.\n",
    "    * Clealy, we can see that the histogram looks as though it comes from the PDF. \n",
    "    * Thus, our values are correctly **SAMPLED** from our **Target Distribution.**\n",
    "    * And only **30-35% of the samples are selected.**\n",
    "    \n",
    "* From my histogram of values from the Reject Vector, we can clearly see that :\n",
    "    * It looks like an inverse of the the PDF.\n",
    "    * It **does not** follow the Target Distribution.\n",
    "    * Also, we can see that a large portion, around **60-66% of the samples are rejected.**\n",
    "    \n",
    "* **Hence,** our Rejection Sampling Process has successfully worked!"
   ]
  }
 ],
 "metadata": {
  "kernelspec": {
   "display_name": "R",
   "language": "R",
   "name": "ir"
  },
  "language_info": {
   "codemirror_mode": "r",
   "file_extension": ".r",
   "mimetype": "text/x-r-source",
   "name": "R",
   "pygments_lexer": "r",
   "version": "3.6.1"
  }
 },
 "nbformat": 4,
 "nbformat_minor": 2
}
